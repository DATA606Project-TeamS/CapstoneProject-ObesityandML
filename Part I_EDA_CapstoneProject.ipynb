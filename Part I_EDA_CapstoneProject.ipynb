{
  "nbformat": 4,
  "nbformat_minor": 0,
  "metadata": {
    "colab": {
      "name": "Team-S: Capstone Project(new).ipynb",
      "provenance": [],
      "collapsed_sections": []
    },
    "kernelspec": {
      "name": "python3",
      "display_name": "Python 3"
    },
    "language_info": {
      "name": "python"
    }
  },
  "cells": [
    {
      "cell_type": "markdown",
      "metadata": {
        "id": "f48v4GkhD7Bz"
      },
      "source": [
        "#**DATA606 Capstone Project**\n",
        "**Group member:**<br>\n",
        "Siyu Ma<br>Sandra Pinto<br> Shruthi Boban"
      ]
    },
    {
      "cell_type": "code",
      "metadata": {
        "id": "Aa8Rh95TDsg0"
      },
      "source": [
        "import pandas as pd\n",
        "import numpy as np\n",
        "import matplotlib.pyplot as plt\n",
        "import seaborn as sns\n",
        "sns.set()\n",
        "plt.style.use('ggplot')\n",
        "\n",
        "import warnings\n",
        "warnings.filterwarnings('ignore')\n",
        "%matplotlib inline\n",
        "\n",
        "# Increase default figure and font sizes for easier viewing.\n",
        "plt.rcParams['figure.figsize'] = (9, 7)\n",
        "plt.rcParams['font.size'] = 14"
      ],
      "execution_count": 1,
      "outputs": []
    },
    {
      "cell_type": "code",
      "metadata": {
        "id": "mcyr9IWoFMWD",
        "colab": {
          "base_uri": "https://localhost:8080/"
        },
        "outputId": "61f79090-cdee-4782-f2c6-9556d1dc8499"
      },
      "source": [
        "!pip install xport"
      ],
      "execution_count": 2,
      "outputs": [
        {
          "output_type": "stream",
          "name": "stdout",
          "text": [
            "Collecting xport\n",
            "  Downloading xport-3.2.1-py2.py3-none-any.whl (24 kB)\n",
            "Requirement already satisfied: click>=7.1.1 in /usr/local/lib/python3.7/dist-packages (from xport) (7.1.2)\n",
            "Requirement already satisfied: pyyaml in /usr/local/lib/python3.7/dist-packages (from xport) (3.13)\n",
            "Requirement already satisfied: pandas>=1.0.3 in /usr/local/lib/python3.7/dist-packages (from xport) (1.1.5)\n",
            "Requirement already satisfied: python-dateutil>=2.7.3 in /usr/local/lib/python3.7/dist-packages (from pandas>=1.0.3->xport) (2.8.2)\n",
            "Requirement already satisfied: numpy>=1.15.4 in /usr/local/lib/python3.7/dist-packages (from pandas>=1.0.3->xport) (1.19.5)\n",
            "Requirement already satisfied: pytz>=2017.2 in /usr/local/lib/python3.7/dist-packages (from pandas>=1.0.3->xport) (2018.9)\n",
            "Requirement already satisfied: six>=1.5 in /usr/local/lib/python3.7/dist-packages (from python-dateutil>=2.7.3->pandas>=1.0.3->xport) (1.15.0)\n",
            "Installing collected packages: xport\n",
            "Successfully installed xport-3.2.1\n"
          ]
        }
      ]
    },
    {
      "cell_type": "code",
      "metadata": {
        "id": "zw5pS900FjLD"
      },
      "source": [
        "import xport.v56"
      ],
      "execution_count": 3,
      "outputs": []
    },
    {
      "cell_type": "code",
      "metadata": {
        "id": "we1XBPyyCobz"
      },
      "source": [
        ""
      ],
      "execution_count": 3,
      "outputs": []
    },
    {
      "cell_type": "markdown",
      "metadata": {
        "id": "YTsRocYjO98n"
      },
      "source": [
        "## Uploading datasets from local file system"
      ]
    },
    {
      "cell_type": "markdown",
      "metadata": {
        "id": "jOfdgPOxZm7r"
      },
      "source": [
        "Link of Github: https://github.com/DATA606Project-TeamS/CapstoneProject-ObesityandML <br>\n",
        "Link of zipped datasets in Github: https://github.com/DATA606Project-TeamS/CapstoneProject-ObesityandML/blob/main/Archive.zip\n",
        "\n",
        "Download datasets to local system and upload to google colab using the code below:"
      ]
    },
    {
      "cell_type": "code",
      "metadata": {
        "colab": {
          "resources": {
            "http://localhost:8080/nbextensions/google.colab/files.js": {
              "data": "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",
              "ok": true,
              "headers": [
                [
                  "content-type",
                  "application/javascript"
                ]
              ],
              "status": 200,
              "status_text": ""
            }
          },
          "base_uri": "https://localhost:8080/",
          "height": 350
        },
        "id": "Cg8EAyiJQFiD",
        "outputId": "f8d14bc9-c66d-426c-fb02-028a2fbc484f"
      },
      "source": [
        "from google.colab import files\n",
        "\n",
        "uploaded = files.upload()\n",
        "\n",
        "for fn in uploaded.keys():\n",
        "  print('User uploaded file \"{name}\" with length {length} bytes'.format(\n",
        "      name=fn, length=len(uploaded[fn])))"
      ],
      "execution_count": 4,
      "outputs": [
        {
          "output_type": "display_data",
          "data": {
            "text/html": [
              "\n",
              "     <input type=\"file\" id=\"files-7a1a4be8-4dc6-4204-8109-f8e7934d31aa\" name=\"files[]\" multiple disabled\n",
              "        style=\"border:none\" />\n",
              "     <output id=\"result-7a1a4be8-4dc6-4204-8109-f8e7934d31aa\">\n",
              "      Upload widget is only available when the cell has been executed in the\n",
              "      current browser session. Please rerun this cell to enable.\n",
              "      </output>\n",
              "      <script src=\"/nbextensions/google.colab/files.js\"></script> "
            ],
            "text/plain": [
              "<IPython.core.display.HTML object>"
            ]
          },
          "metadata": {}
        },
        {
          "output_type": "stream",
          "name": "stdout",
          "text": [
            "Saving P_DPQ.XPT to P_DPQ.XPT\n",
            "Saving P_SLQ.XPT to P_SLQ.XPT\n",
            "Saving P_PAQ.XPT to P_PAQ.XPT\n",
            "Saving P_DIQ.XPT to P_DIQ.XPT\n",
            "Saving P_BMX.XPT to P_BMX.XPT\n",
            "Saving P_DEMO.XPT to P_DEMO.XPT\n",
            "User uploaded file \"P_DPQ.XPT\" with length 791280 bytes\n",
            "User uploaded file \"P_SLQ.XPT\" with length 777200 bytes\n",
            "User uploaded file \"P_PAQ.XPT\" with length 1321440 bytes\n",
            "User uploaded file \"P_DIQ.XPT\" with length 3361520 bytes\n",
            "User uploaded file \"P_BMX.XPT\" with length 2520640 bytes\n",
            "User uploaded file \"P_DEMO.XPT\" with length 3614720 bytes\n"
          ]
        }
      ]
    },
    {
      "cell_type": "markdown",
      "metadata": {
        "id": "HOypFAEBFGea"
      },
      "source": [
        "### **Demographic Variables and Sample Weights (P_DEMO) Dataset**\n",
        "---\n",
        "\n",
        "\n",
        "SEQN - Respondent sequence number<br>\n",
        "RIAGENDR - Gender<br>\n",
        "  - 1: Male\n",
        "  - 2: Female<br>\n",
        "  - .: Missing<br>\n",
        "\n",
        "RIDAGEYR - Age in years at screening<br>\n",
        "  - 0 to 79: Range of values\n",
        "  - 80: 80 years and over\n",
        "  - .: missing<br>\n",
        "\n",
        "RIDRETH3 - Race/Hispanic origin<br>\n",
        "   - 1: Mexican American\n",
        "   - 2: Other Hispanic\n",
        "   - 3: None-Hispanic White\n",
        "   - 4: None-Hispanic Black\n",
        "   - 6: None-Hispanic Asian\n",
        "   - 7: Other Race - Including Multi-Racial\n",
        "   - .: Missing<br>\n",
        "\n",
        "DMDBORN4 - Country of birth<br>\n",
        "  - 1: Born in 50 US states or Washinton, DC\n",
        "  - 2: Others\n",
        "  - 77: Refused\n",
        "  - 99: Don't Know\n",
        "  - .: Missing\n",
        "  <br>\n",
        "\n",
        "DMDEDUC2 - Education level - Adults 20+<br>\n",
        "  - 1: Less than 9th grade\n",
        "  - 2: 9-11th grade(Includes 12th grade with no diploma)\n",
        "  - 3: High School graduate/GED or equivalent\n",
        "  - 4: Some college or AA degree\n",
        "  - 5: College graduate or above\n",
        "  - 7: Refused\n",
        "  - 9 :Don't know\n",
        "  - .: Missing<br>\n",
        "\n",
        "INDFMPIR - Ratio of family income to poverty\n",
        "  - 0 to 4.98: Range of values\n",
        "  - 5: Value greater than or equal to 5.00\n",
        "  - .: Missing\n",
        "\n"
      ]
    },
    {
      "cell_type": "code",
      "metadata": {
        "id": "3CNPMCLTI33a",
        "colab": {
          "base_uri": "https://localhost:8080/",
          "height": 424
        },
        "outputId": "55a71654-17ae-46b2-c48f-49d508d1926f"
      },
      "source": [
        "# Demographic variables dataset\n",
        "df_demo = pd.read_sas('/content/P_DEMO.XPT')\n",
        "df_demo = df_demo[[\"SEQN\", \"RIAGENDR\", \"RIDAGEYR\", \"RIDRETH3\",\n",
        "                   \"DMDBORN4\", \"DMDEDUC2\",\"INDFMPIR\"]]\n",
        "df_demo  "
      ],
      "execution_count": 5,
      "outputs": [
        {
          "output_type": "execute_result",
          "data": {
            "text/html": [
              "<div>\n",
              "<style scoped>\n",
              "    .dataframe tbody tr th:only-of-type {\n",
              "        vertical-align: middle;\n",
              "    }\n",
              "\n",
              "    .dataframe tbody tr th {\n",
              "        vertical-align: top;\n",
              "    }\n",
              "\n",
              "    .dataframe thead th {\n",
              "        text-align: right;\n",
              "    }\n",
              "</style>\n",
              "<table border=\"1\" class=\"dataframe\">\n",
              "  <thead>\n",
              "    <tr style=\"text-align: right;\">\n",
              "      <th></th>\n",
              "      <th>SEQN</th>\n",
              "      <th>RIAGENDR</th>\n",
              "      <th>RIDAGEYR</th>\n",
              "      <th>RIDRETH3</th>\n",
              "      <th>DMDBORN4</th>\n",
              "      <th>DMDEDUC2</th>\n",
              "      <th>INDFMPIR</th>\n",
              "    </tr>\n",
              "  </thead>\n",
              "  <tbody>\n",
              "    <tr>\n",
              "      <th>0</th>\n",
              "      <td>109263.0</td>\n",
              "      <td>1.0</td>\n",
              "      <td>2.0</td>\n",
              "      <td>6.0</td>\n",
              "      <td>1.0</td>\n",
              "      <td>NaN</td>\n",
              "      <td>4.66</td>\n",
              "    </tr>\n",
              "    <tr>\n",
              "      <th>1</th>\n",
              "      <td>109264.0</td>\n",
              "      <td>2.0</td>\n",
              "      <td>13.0</td>\n",
              "      <td>1.0</td>\n",
              "      <td>1.0</td>\n",
              "      <td>NaN</td>\n",
              "      <td>0.83</td>\n",
              "    </tr>\n",
              "    <tr>\n",
              "      <th>2</th>\n",
              "      <td>109265.0</td>\n",
              "      <td>1.0</td>\n",
              "      <td>2.0</td>\n",
              "      <td>3.0</td>\n",
              "      <td>1.0</td>\n",
              "      <td>NaN</td>\n",
              "      <td>3.06</td>\n",
              "    </tr>\n",
              "    <tr>\n",
              "      <th>3</th>\n",
              "      <td>109266.0</td>\n",
              "      <td>2.0</td>\n",
              "      <td>29.0</td>\n",
              "      <td>6.0</td>\n",
              "      <td>2.0</td>\n",
              "      <td>5.0</td>\n",
              "      <td>5.00</td>\n",
              "    </tr>\n",
              "    <tr>\n",
              "      <th>4</th>\n",
              "      <td>109267.0</td>\n",
              "      <td>2.0</td>\n",
              "      <td>21.0</td>\n",
              "      <td>2.0</td>\n",
              "      <td>2.0</td>\n",
              "      <td>4.0</td>\n",
              "      <td>5.00</td>\n",
              "    </tr>\n",
              "    <tr>\n",
              "      <th>...</th>\n",
              "      <td>...</td>\n",
              "      <td>...</td>\n",
              "      <td>...</td>\n",
              "      <td>...</td>\n",
              "      <td>...</td>\n",
              "      <td>...</td>\n",
              "      <td>...</td>\n",
              "    </tr>\n",
              "    <tr>\n",
              "      <th>15555</th>\n",
              "      <td>124818.0</td>\n",
              "      <td>1.0</td>\n",
              "      <td>40.0</td>\n",
              "      <td>4.0</td>\n",
              "      <td>1.0</td>\n",
              "      <td>5.0</td>\n",
              "      <td>3.82</td>\n",
              "    </tr>\n",
              "    <tr>\n",
              "      <th>15556</th>\n",
              "      <td>124819.0</td>\n",
              "      <td>1.0</td>\n",
              "      <td>2.0</td>\n",
              "      <td>4.0</td>\n",
              "      <td>1.0</td>\n",
              "      <td>NaN</td>\n",
              "      <td>0.07</td>\n",
              "    </tr>\n",
              "    <tr>\n",
              "      <th>15557</th>\n",
              "      <td>124820.0</td>\n",
              "      <td>2.0</td>\n",
              "      <td>7.0</td>\n",
              "      <td>3.0</td>\n",
              "      <td>1.0</td>\n",
              "      <td>NaN</td>\n",
              "      <td>1.22</td>\n",
              "    </tr>\n",
              "    <tr>\n",
              "      <th>15558</th>\n",
              "      <td>124821.0</td>\n",
              "      <td>1.0</td>\n",
              "      <td>63.0</td>\n",
              "      <td>4.0</td>\n",
              "      <td>1.0</td>\n",
              "      <td>2.0</td>\n",
              "      <td>3.71</td>\n",
              "    </tr>\n",
              "    <tr>\n",
              "      <th>15559</th>\n",
              "      <td>124822.0</td>\n",
              "      <td>1.0</td>\n",
              "      <td>74.0</td>\n",
              "      <td>2.0</td>\n",
              "      <td>2.0</td>\n",
              "      <td>3.0</td>\n",
              "      <td>NaN</td>\n",
              "    </tr>\n",
              "  </tbody>\n",
              "</table>\n",
              "<p>15560 rows × 7 columns</p>\n",
              "</div>"
            ],
            "text/plain": [
              "           SEQN  RIAGENDR  RIDAGEYR  RIDRETH3  DMDBORN4  DMDEDUC2  INDFMPIR\n",
              "0      109263.0       1.0       2.0       6.0       1.0       NaN      4.66\n",
              "1      109264.0       2.0      13.0       1.0       1.0       NaN      0.83\n",
              "2      109265.0       1.0       2.0       3.0       1.0       NaN      3.06\n",
              "3      109266.0       2.0      29.0       6.0       2.0       5.0      5.00\n",
              "4      109267.0       2.0      21.0       2.0       2.0       4.0      5.00\n",
              "...         ...       ...       ...       ...       ...       ...       ...\n",
              "15555  124818.0       1.0      40.0       4.0       1.0       5.0      3.82\n",
              "15556  124819.0       1.0       2.0       4.0       1.0       NaN      0.07\n",
              "15557  124820.0       2.0       7.0       3.0       1.0       NaN      1.22\n",
              "15558  124821.0       1.0      63.0       4.0       1.0       2.0      3.71\n",
              "15559  124822.0       1.0      74.0       2.0       2.0       3.0       NaN\n",
              "\n",
              "[15560 rows x 7 columns]"
            ]
          },
          "metadata": {},
          "execution_count": 5
        }
      ]
    },
    {
      "cell_type": "markdown",
      "metadata": {
        "id": "loclVr5vFT3P"
      },
      "source": [
        "## Body Measures (P_BMX) Dataset\n",
        "---\n",
        "SEQN - Respondent sequence number<br>\n",
        "BMXWT - Weight (kg)<br>\n",
        "  - 3.3 to 254.3: Range of Values\n",
        "  - .: Missing<br>\n",
        "  \n",
        "BMXBMI - Body Mass Index (kg/m**2)<br>\n",
        "  - 11.9 to 92.3: Range of Values\n",
        "  - .: Missing<br>\n",
        "\n"
      ]
    },
    {
      "cell_type": "code",
      "metadata": {
        "id": "NjIWnMvvFkY-",
        "colab": {
          "base_uri": "https://localhost:8080/",
          "height": 424
        },
        "outputId": "0190a501-f464-4c79-e366-e7877937a778"
      },
      "source": [
        "# Body Measures dataset\n",
        "df_bodymeasures = pd.read_sas('/content/P_BMX.XPT')\n",
        "df_bodymeasures = df_bodymeasures[[\"SEQN\", \"BMXWT\",\"BMXHT\",\"BMXBMI\"]]\n",
        "df_bodymeasures"
      ],
      "execution_count": 6,
      "outputs": [
        {
          "output_type": "execute_result",
          "data": {
            "text/html": [
              "<div>\n",
              "<style scoped>\n",
              "    .dataframe tbody tr th:only-of-type {\n",
              "        vertical-align: middle;\n",
              "    }\n",
              "\n",
              "    .dataframe tbody tr th {\n",
              "        vertical-align: top;\n",
              "    }\n",
              "\n",
              "    .dataframe thead th {\n",
              "        text-align: right;\n",
              "    }\n",
              "</style>\n",
              "<table border=\"1\" class=\"dataframe\">\n",
              "  <thead>\n",
              "    <tr style=\"text-align: right;\">\n",
              "      <th></th>\n",
              "      <th>SEQN</th>\n",
              "      <th>BMXWT</th>\n",
              "      <th>BMXHT</th>\n",
              "      <th>BMXBMI</th>\n",
              "    </tr>\n",
              "  </thead>\n",
              "  <tbody>\n",
              "    <tr>\n",
              "      <th>0</th>\n",
              "      <td>109263.0</td>\n",
              "      <td>NaN</td>\n",
              "      <td>NaN</td>\n",
              "      <td>NaN</td>\n",
              "    </tr>\n",
              "    <tr>\n",
              "      <th>1</th>\n",
              "      <td>109264.0</td>\n",
              "      <td>42.2</td>\n",
              "      <td>154.7</td>\n",
              "      <td>17.6</td>\n",
              "    </tr>\n",
              "    <tr>\n",
              "      <th>2</th>\n",
              "      <td>109265.0</td>\n",
              "      <td>12.0</td>\n",
              "      <td>89.3</td>\n",
              "      <td>15.0</td>\n",
              "    </tr>\n",
              "    <tr>\n",
              "      <th>3</th>\n",
              "      <td>109266.0</td>\n",
              "      <td>97.1</td>\n",
              "      <td>160.2</td>\n",
              "      <td>37.8</td>\n",
              "    </tr>\n",
              "    <tr>\n",
              "      <th>4</th>\n",
              "      <td>109269.0</td>\n",
              "      <td>13.6</td>\n",
              "      <td>NaN</td>\n",
              "      <td>NaN</td>\n",
              "    </tr>\n",
              "    <tr>\n",
              "      <th>...</th>\n",
              "      <td>...</td>\n",
              "      <td>...</td>\n",
              "      <td>...</td>\n",
              "      <td>...</td>\n",
              "    </tr>\n",
              "    <tr>\n",
              "      <th>14295</th>\n",
              "      <td>124818.0</td>\n",
              "      <td>108.8</td>\n",
              "      <td>168.7</td>\n",
              "      <td>38.2</td>\n",
              "    </tr>\n",
              "    <tr>\n",
              "      <th>14296</th>\n",
              "      <td>124819.0</td>\n",
              "      <td>15.4</td>\n",
              "      <td>93.7</td>\n",
              "      <td>17.5</td>\n",
              "    </tr>\n",
              "    <tr>\n",
              "      <th>14297</th>\n",
              "      <td>124820.0</td>\n",
              "      <td>22.9</td>\n",
              "      <td>123.3</td>\n",
              "      <td>15.1</td>\n",
              "    </tr>\n",
              "    <tr>\n",
              "      <th>14298</th>\n",
              "      <td>124821.0</td>\n",
              "      <td>79.5</td>\n",
              "      <td>176.4</td>\n",
              "      <td>25.5</td>\n",
              "    </tr>\n",
              "    <tr>\n",
              "      <th>14299</th>\n",
              "      <td>124822.0</td>\n",
              "      <td>59.7</td>\n",
              "      <td>167.5</td>\n",
              "      <td>21.3</td>\n",
              "    </tr>\n",
              "  </tbody>\n",
              "</table>\n",
              "<p>14300 rows × 4 columns</p>\n",
              "</div>"
            ],
            "text/plain": [
              "           SEQN  BMXWT  BMXHT  BMXBMI\n",
              "0      109263.0    NaN    NaN     NaN\n",
              "1      109264.0   42.2  154.7    17.6\n",
              "2      109265.0   12.0   89.3    15.0\n",
              "3      109266.0   97.1  160.2    37.8\n",
              "4      109269.0   13.6    NaN     NaN\n",
              "...         ...    ...    ...     ...\n",
              "14295  124818.0  108.8  168.7    38.2\n",
              "14296  124819.0   15.4   93.7    17.5\n",
              "14297  124820.0   22.9  123.3    15.1\n",
              "14298  124821.0   79.5  176.4    25.5\n",
              "14299  124822.0   59.7  167.5    21.3\n",
              "\n",
              "[14300 rows x 4 columns]"
            ]
          },
          "metadata": {},
          "execution_count": 6
        }
      ]
    },
    {
      "cell_type": "markdown",
      "metadata": {
        "id": "0AuIVb14G3KG"
      },
      "source": [
        "## Diabetes(P_DIQ) Dataset\n",
        "\n",
        "---\n",
        "SEQN - Respondent sequence number<br>\n",
        "DIQ010 - Doctor told you have diabetes<br>\n",
        "  - 1: Yes\n",
        "  - 2: No\n",
        "  - 3: Boederline\n",
        "  - 7: Refused\n",
        "  - 9: Don't know\n",
        "  - .: missing\n",
        "\n"
      ]
    },
    {
      "cell_type": "code",
      "metadata": {
        "id": "E9s7RBZ-HHXl",
        "colab": {
          "base_uri": "https://localhost:8080/",
          "height": 424
        },
        "outputId": "4201ad41-611f-4edf-851d-8b86fdcb4bd5"
      },
      "source": [
        "# Diabetes dataset\n",
        "df_diabetes = pd.read_sas('/content/P_DIQ.XPT')\n",
        "df_diabetes = df_diabetes[[\"SEQN\", \"DIQ010\"]]\n",
        "df_diabetes"
      ],
      "execution_count": 7,
      "outputs": [
        {
          "output_type": "execute_result",
          "data": {
            "text/html": [
              "<div>\n",
              "<style scoped>\n",
              "    .dataframe tbody tr th:only-of-type {\n",
              "        vertical-align: middle;\n",
              "    }\n",
              "\n",
              "    .dataframe tbody tr th {\n",
              "        vertical-align: top;\n",
              "    }\n",
              "\n",
              "    .dataframe thead th {\n",
              "        text-align: right;\n",
              "    }\n",
              "</style>\n",
              "<table border=\"1\" class=\"dataframe\">\n",
              "  <thead>\n",
              "    <tr style=\"text-align: right;\">\n",
              "      <th></th>\n",
              "      <th>SEQN</th>\n",
              "      <th>DIQ010</th>\n",
              "    </tr>\n",
              "  </thead>\n",
              "  <tbody>\n",
              "    <tr>\n",
              "      <th>0</th>\n",
              "      <td>109263.0</td>\n",
              "      <td>2.0</td>\n",
              "    </tr>\n",
              "    <tr>\n",
              "      <th>1</th>\n",
              "      <td>109264.0</td>\n",
              "      <td>2.0</td>\n",
              "    </tr>\n",
              "    <tr>\n",
              "      <th>2</th>\n",
              "      <td>109265.0</td>\n",
              "      <td>2.0</td>\n",
              "    </tr>\n",
              "    <tr>\n",
              "      <th>3</th>\n",
              "      <td>109266.0</td>\n",
              "      <td>2.0</td>\n",
              "    </tr>\n",
              "    <tr>\n",
              "      <th>4</th>\n",
              "      <td>109267.0</td>\n",
              "      <td>2.0</td>\n",
              "    </tr>\n",
              "    <tr>\n",
              "      <th>...</th>\n",
              "      <td>...</td>\n",
              "      <td>...</td>\n",
              "    </tr>\n",
              "    <tr>\n",
              "      <th>14981</th>\n",
              "      <td>124818.0</td>\n",
              "      <td>2.0</td>\n",
              "    </tr>\n",
              "    <tr>\n",
              "      <th>14982</th>\n",
              "      <td>124819.0</td>\n",
              "      <td>2.0</td>\n",
              "    </tr>\n",
              "    <tr>\n",
              "      <th>14983</th>\n",
              "      <td>124820.0</td>\n",
              "      <td>2.0</td>\n",
              "    </tr>\n",
              "    <tr>\n",
              "      <th>14984</th>\n",
              "      <td>124821.0</td>\n",
              "      <td>3.0</td>\n",
              "    </tr>\n",
              "    <tr>\n",
              "      <th>14985</th>\n",
              "      <td>124822.0</td>\n",
              "      <td>2.0</td>\n",
              "    </tr>\n",
              "  </tbody>\n",
              "</table>\n",
              "<p>14986 rows × 2 columns</p>\n",
              "</div>"
            ],
            "text/plain": [
              "           SEQN  DIQ010\n",
              "0      109263.0     2.0\n",
              "1      109264.0     2.0\n",
              "2      109265.0     2.0\n",
              "3      109266.0     2.0\n",
              "4      109267.0     2.0\n",
              "...         ...     ...\n",
              "14981  124818.0     2.0\n",
              "14982  124819.0     2.0\n",
              "14983  124820.0     2.0\n",
              "14984  124821.0     3.0\n",
              "14985  124822.0     2.0\n",
              "\n",
              "[14986 rows x 2 columns]"
            ]
          },
          "metadata": {},
          "execution_count": 7
        }
      ]
    },
    {
      "cell_type": "markdown",
      "metadata": {
        "id": "QZk_roFOW5qV"
      },
      "source": [
        "## Physical activity(P_OAQ.XPT) dataset\n",
        "\n",
        "---\n",
        "SEQN - Respondent sequence number<br>\n",
        "PAQ620 - Moderate work activity\n",
        "  - 1: Yes\n",
        "  - 2: No\n",
        "  - 7: Refused\n",
        "  - 9: Don't know\n",
        "  - .: missing<br>\n",
        "\n",
        "PAQ665 - Moderate recreational activities\n",
        "  - 1: Yes\n",
        "  - 2: No\n",
        "  - 7: Refused\n",
        "  - 9: Don't know\n",
        "  - .: missing<br>"
      ]
    },
    {
      "cell_type": "code",
      "metadata": {
        "id": "dGeTT6vDHoCH",
        "colab": {
          "base_uri": "https://localhost:8080/",
          "height": 424
        },
        "outputId": "f4a770f9-5892-4aa9-c229-496bf55823a2"
      },
      "source": [
        "# Physical activity dataset\n",
        "df_activity = pd.read_sas('/content/P_PAQ.XPT')\n",
        "df_activity = df_activity[[\"SEQN\", \"PAQ620\", \"PAQ665\"]]\n",
        "df_activity"
      ],
      "execution_count": 8,
      "outputs": [
        {
          "output_type": "execute_result",
          "data": {
            "text/html": [
              "<div>\n",
              "<style scoped>\n",
              "    .dataframe tbody tr th:only-of-type {\n",
              "        vertical-align: middle;\n",
              "    }\n",
              "\n",
              "    .dataframe tbody tr th {\n",
              "        vertical-align: top;\n",
              "    }\n",
              "\n",
              "    .dataframe thead th {\n",
              "        text-align: right;\n",
              "    }\n",
              "</style>\n",
              "<table border=\"1\" class=\"dataframe\">\n",
              "  <thead>\n",
              "    <tr style=\"text-align: right;\">\n",
              "      <th></th>\n",
              "      <th>SEQN</th>\n",
              "      <th>PAQ620</th>\n",
              "      <th>PAQ665</th>\n",
              "    </tr>\n",
              "  </thead>\n",
              "  <tbody>\n",
              "    <tr>\n",
              "      <th>0</th>\n",
              "      <td>109266.0</td>\n",
              "      <td>2.0</td>\n",
              "      <td>1.0</td>\n",
              "    </tr>\n",
              "    <tr>\n",
              "      <th>1</th>\n",
              "      <td>109267.0</td>\n",
              "      <td>2.0</td>\n",
              "      <td>2.0</td>\n",
              "    </tr>\n",
              "    <tr>\n",
              "      <th>2</th>\n",
              "      <td>109268.0</td>\n",
              "      <td>1.0</td>\n",
              "      <td>2.0</td>\n",
              "    </tr>\n",
              "    <tr>\n",
              "      <th>3</th>\n",
              "      <td>109271.0</td>\n",
              "      <td>1.0</td>\n",
              "      <td>2.0</td>\n",
              "    </tr>\n",
              "    <tr>\n",
              "      <th>4</th>\n",
              "      <td>109273.0</td>\n",
              "      <td>2.0</td>\n",
              "      <td>1.0</td>\n",
              "    </tr>\n",
              "    <tr>\n",
              "      <th>...</th>\n",
              "      <td>...</td>\n",
              "      <td>...</td>\n",
              "      <td>...</td>\n",
              "    </tr>\n",
              "    <tr>\n",
              "      <th>9688</th>\n",
              "      <td>124815.0</td>\n",
              "      <td>2.0</td>\n",
              "      <td>1.0</td>\n",
              "    </tr>\n",
              "    <tr>\n",
              "      <th>9689</th>\n",
              "      <td>124817.0</td>\n",
              "      <td>2.0</td>\n",
              "      <td>2.0</td>\n",
              "    </tr>\n",
              "    <tr>\n",
              "      <th>9690</th>\n",
              "      <td>124818.0</td>\n",
              "      <td>2.0</td>\n",
              "      <td>2.0</td>\n",
              "    </tr>\n",
              "    <tr>\n",
              "      <th>9691</th>\n",
              "      <td>124821.0</td>\n",
              "      <td>2.0</td>\n",
              "      <td>2.0</td>\n",
              "    </tr>\n",
              "    <tr>\n",
              "      <th>9692</th>\n",
              "      <td>124822.0</td>\n",
              "      <td>1.0</td>\n",
              "      <td>1.0</td>\n",
              "    </tr>\n",
              "  </tbody>\n",
              "</table>\n",
              "<p>9693 rows × 3 columns</p>\n",
              "</div>"
            ],
            "text/plain": [
              "          SEQN  PAQ620  PAQ665\n",
              "0     109266.0     2.0     1.0\n",
              "1     109267.0     2.0     2.0\n",
              "2     109268.0     1.0     2.0\n",
              "3     109271.0     1.0     2.0\n",
              "4     109273.0     2.0     1.0\n",
              "...        ...     ...     ...\n",
              "9688  124815.0     2.0     1.0\n",
              "9689  124817.0     2.0     2.0\n",
              "9690  124818.0     2.0     2.0\n",
              "9691  124821.0     2.0     2.0\n",
              "9692  124822.0     1.0     1.0\n",
              "\n",
              "[9693 rows x 3 columns]"
            ]
          },
          "metadata": {},
          "execution_count": 8
        }
      ]
    },
    {
      "cell_type": "markdown",
      "metadata": {
        "id": "DMry1lgA7Xfy"
      },
      "source": [
        "## Mental health dataset\n",
        "\n",
        "---\n",
        "DPQ020 - Feeling down, depressed, or hopeless<br>\n",
        "  - 0: Not at all\n",
        "  - 1: Several days\n",
        "  - 2: More than half the days\n",
        "  - 3: Nearly every day\n",
        "  - 7: Refused\n",
        "  - 9: Don't know\n",
        "  - .: Missing<br>\n",
        "\n",
        "DPQ050 - Poor appetite or overeating<br>\n",
        "  - 0: Not at all\n",
        "  - 1: Several days\n",
        "  - 2: More than half the days\n",
        "  - 3: Nearly every day\n",
        "  - 7: Refused\n",
        "  - 9: Don't know\n",
        "  - .: Missing<br>\n"
      ]
    },
    {
      "cell_type": "code",
      "metadata": {
        "id": "eM2lPJGJYHRE",
        "colab": {
          "base_uri": "https://localhost:8080/",
          "height": 424
        },
        "outputId": "bfe6b072-3a7b-4c79-8c49-11cdc1edb8a9"
      },
      "source": [
        "# Mental Health(P_DPQ.XPT) dataset\n",
        "df_mentalhealth = pd.read_sas('/content/P_DPQ.XPT')\n",
        "\n",
        "df_mentalhealth = df_mentalhealth[[\"SEQN\",\"DPQ020\",\"DPQ050\"]]\n",
        "df_mentalhealth"
      ],
      "execution_count": 9,
      "outputs": [
        {
          "output_type": "execute_result",
          "data": {
            "text/html": [
              "<div>\n",
              "<style scoped>\n",
              "    .dataframe tbody tr th:only-of-type {\n",
              "        vertical-align: middle;\n",
              "    }\n",
              "\n",
              "    .dataframe tbody tr th {\n",
              "        vertical-align: top;\n",
              "    }\n",
              "\n",
              "    .dataframe thead th {\n",
              "        text-align: right;\n",
              "    }\n",
              "</style>\n",
              "<table border=\"1\" class=\"dataframe\">\n",
              "  <thead>\n",
              "    <tr style=\"text-align: right;\">\n",
              "      <th></th>\n",
              "      <th>SEQN</th>\n",
              "      <th>DPQ020</th>\n",
              "      <th>DPQ050</th>\n",
              "    </tr>\n",
              "  </thead>\n",
              "  <tbody>\n",
              "    <tr>\n",
              "      <th>0</th>\n",
              "      <td>109266.0</td>\n",
              "      <td>5.397605e-79</td>\n",
              "      <td>5.397605e-79</td>\n",
              "    </tr>\n",
              "    <tr>\n",
              "      <th>1</th>\n",
              "      <td>109271.0</td>\n",
              "      <td>1.000000e+00</td>\n",
              "      <td>5.397605e-79</td>\n",
              "    </tr>\n",
              "    <tr>\n",
              "      <th>2</th>\n",
              "      <td>109273.0</td>\n",
              "      <td>2.000000e+00</td>\n",
              "      <td>2.000000e+00</td>\n",
              "    </tr>\n",
              "    <tr>\n",
              "      <th>3</th>\n",
              "      <td>109274.0</td>\n",
              "      <td>5.397605e-79</td>\n",
              "      <td>5.397605e-79</td>\n",
              "    </tr>\n",
              "    <tr>\n",
              "      <th>4</th>\n",
              "      <td>109282.0</td>\n",
              "      <td>1.000000e+00</td>\n",
              "      <td>5.397605e-79</td>\n",
              "    </tr>\n",
              "    <tr>\n",
              "      <th>...</th>\n",
              "      <td>...</td>\n",
              "      <td>...</td>\n",
              "      <td>...</td>\n",
              "    </tr>\n",
              "    <tr>\n",
              "      <th>8960</th>\n",
              "      <td>124815.0</td>\n",
              "      <td>5.397605e-79</td>\n",
              "      <td>5.397605e-79</td>\n",
              "    </tr>\n",
              "    <tr>\n",
              "      <th>8961</th>\n",
              "      <td>124817.0</td>\n",
              "      <td>1.000000e+00</td>\n",
              "      <td>5.397605e-79</td>\n",
              "    </tr>\n",
              "    <tr>\n",
              "      <th>8962</th>\n",
              "      <td>124818.0</td>\n",
              "      <td>5.397605e-79</td>\n",
              "      <td>5.397605e-79</td>\n",
              "    </tr>\n",
              "    <tr>\n",
              "      <th>8963</th>\n",
              "      <td>124821.0</td>\n",
              "      <td>5.397605e-79</td>\n",
              "      <td>5.397605e-79</td>\n",
              "    </tr>\n",
              "    <tr>\n",
              "      <th>8964</th>\n",
              "      <td>124822.0</td>\n",
              "      <td>5.397605e-79</td>\n",
              "      <td>2.000000e+00</td>\n",
              "    </tr>\n",
              "  </tbody>\n",
              "</table>\n",
              "<p>8965 rows × 3 columns</p>\n",
              "</div>"
            ],
            "text/plain": [
              "          SEQN        DPQ020        DPQ050\n",
              "0     109266.0  5.397605e-79  5.397605e-79\n",
              "1     109271.0  1.000000e+00  5.397605e-79\n",
              "2     109273.0  2.000000e+00  2.000000e+00\n",
              "3     109274.0  5.397605e-79  5.397605e-79\n",
              "4     109282.0  1.000000e+00  5.397605e-79\n",
              "...        ...           ...           ...\n",
              "8960  124815.0  5.397605e-79  5.397605e-79\n",
              "8961  124817.0  1.000000e+00  5.397605e-79\n",
              "8962  124818.0  5.397605e-79  5.397605e-79\n",
              "8963  124821.0  5.397605e-79  5.397605e-79\n",
              "8964  124822.0  5.397605e-79  2.000000e+00\n",
              "\n",
              "[8965 rows x 3 columns]"
            ]
          },
          "metadata": {},
          "execution_count": 9
        }
      ]
    },
    {
      "cell_type": "markdown",
      "metadata": {
        "id": "qYErXuMU8A9M"
      },
      "source": [
        "## Sleep Disorders dataset\n",
        "\n",
        "---\n",
        "SLD012 - Sleep hours - weekdays or workdays\n",
        "  - 3 to 13.5: Range of values\n",
        "  - 2: Less than 3 hours\n",
        "  - 14: 14 hours or more\n",
        "  - .: Missing\n",
        "<br>\n",
        "\n",
        "SLD013 - Sleep hours - weekends\n",
        "  - 3 to 13.5: Range of values\n",
        "  - 2: Less than 3 hours\n",
        "  - 14: 14 hours or more\n",
        "  - .: Missing\n",
        "<br>"
      ]
    },
    {
      "cell_type": "code",
      "metadata": {
        "id": "wDWJEZFK8Y7g",
        "colab": {
          "base_uri": "https://localhost:8080/",
          "height": 424
        },
        "outputId": "65070fe2-b183-45a5-ced0-e53134030d77"
      },
      "source": [
        "# Sleep disorders dataset\n",
        "df_sleepdisorder = pd.read_sas('/content/P_SLQ.XPT')\n",
        "df_sleepdisorder= df_sleepdisorder[[\"SEQN\",\"SLD012\",\"SLD013\"]]\n",
        "df_sleepdisorder"
      ],
      "execution_count": 10,
      "outputs": [
        {
          "output_type": "execute_result",
          "data": {
            "text/html": [
              "<div>\n",
              "<style scoped>\n",
              "    .dataframe tbody tr th:only-of-type {\n",
              "        vertical-align: middle;\n",
              "    }\n",
              "\n",
              "    .dataframe tbody tr th {\n",
              "        vertical-align: top;\n",
              "    }\n",
              "\n",
              "    .dataframe thead th {\n",
              "        text-align: right;\n",
              "    }\n",
              "</style>\n",
              "<table border=\"1\" class=\"dataframe\">\n",
              "  <thead>\n",
              "    <tr style=\"text-align: right;\">\n",
              "      <th></th>\n",
              "      <th>SEQN</th>\n",
              "      <th>SLD012</th>\n",
              "      <th>SLD013</th>\n",
              "    </tr>\n",
              "  </thead>\n",
              "  <tbody>\n",
              "    <tr>\n",
              "      <th>0</th>\n",
              "      <td>109266.0</td>\n",
              "      <td>7.5</td>\n",
              "      <td>8.0</td>\n",
              "    </tr>\n",
              "    <tr>\n",
              "      <th>1</th>\n",
              "      <td>109267.0</td>\n",
              "      <td>8.0</td>\n",
              "      <td>8.0</td>\n",
              "    </tr>\n",
              "    <tr>\n",
              "      <th>2</th>\n",
              "      <td>109268.0</td>\n",
              "      <td>8.5</td>\n",
              "      <td>8.0</td>\n",
              "    </tr>\n",
              "    <tr>\n",
              "      <th>3</th>\n",
              "      <td>109271.0</td>\n",
              "      <td>10.0</td>\n",
              "      <td>13.0</td>\n",
              "    </tr>\n",
              "    <tr>\n",
              "      <th>4</th>\n",
              "      <td>109273.0</td>\n",
              "      <td>6.5</td>\n",
              "      <td>8.0</td>\n",
              "    </tr>\n",
              "    <tr>\n",
              "      <th>...</th>\n",
              "      <td>...</td>\n",
              "      <td>...</td>\n",
              "      <td>...</td>\n",
              "    </tr>\n",
              "    <tr>\n",
              "      <th>10190</th>\n",
              "      <td>124815.0</td>\n",
              "      <td>6.0</td>\n",
              "      <td>6.0</td>\n",
              "    </tr>\n",
              "    <tr>\n",
              "      <th>10191</th>\n",
              "      <td>124817.0</td>\n",
              "      <td>8.0</td>\n",
              "      <td>8.0</td>\n",
              "    </tr>\n",
              "    <tr>\n",
              "      <th>10192</th>\n",
              "      <td>124818.0</td>\n",
              "      <td>6.0</td>\n",
              "      <td>7.0</td>\n",
              "    </tr>\n",
              "    <tr>\n",
              "      <th>10193</th>\n",
              "      <td>124821.0</td>\n",
              "      <td>8.0</td>\n",
              "      <td>9.0</td>\n",
              "    </tr>\n",
              "    <tr>\n",
              "      <th>10194</th>\n",
              "      <td>124822.0</td>\n",
              "      <td>5.5</td>\n",
              "      <td>8.0</td>\n",
              "    </tr>\n",
              "  </tbody>\n",
              "</table>\n",
              "<p>10195 rows × 3 columns</p>\n",
              "</div>"
            ],
            "text/plain": [
              "           SEQN  SLD012  SLD013\n",
              "0      109266.0     7.5     8.0\n",
              "1      109267.0     8.0     8.0\n",
              "2      109268.0     8.5     8.0\n",
              "3      109271.0    10.0    13.0\n",
              "4      109273.0     6.5     8.0\n",
              "...         ...     ...     ...\n",
              "10190  124815.0     6.0     6.0\n",
              "10191  124817.0     8.0     8.0\n",
              "10192  124818.0     6.0     7.0\n",
              "10193  124821.0     8.0     9.0\n",
              "10194  124822.0     5.5     8.0\n",
              "\n",
              "[10195 rows x 3 columns]"
            ]
          },
          "metadata": {},
          "execution_count": 10
        }
      ]
    },
    {
      "cell_type": "markdown",
      "metadata": {
        "id": "derQdkrPdKaw"
      },
      "source": [
        "## Merge datasets"
      ]
    },
    {
      "cell_type": "code",
      "metadata": {
        "id": "dBMWZi1pbLvC",
        "colab": {
          "base_uri": "https://localhost:8080/"
        },
        "outputId": "45ba2909-fcaa-433e-9c2d-3b14ec508c0c"
      },
      "source": [
        "df_demo.head(), df_bodymeasures.head(), df_diabetes.head(), df_activity.head(), df_mentalhealth.head(), df_sleepdisorder.head()\n"
      ],
      "execution_count": 11,
      "outputs": [
        {
          "output_type": "execute_result",
          "data": {
            "text/plain": [
              "(       SEQN  RIAGENDR  RIDAGEYR  RIDRETH3  DMDBORN4  DMDEDUC2  INDFMPIR\n",
              " 0  109263.0       1.0       2.0       6.0       1.0       NaN      4.66\n",
              " 1  109264.0       2.0      13.0       1.0       1.0       NaN      0.83\n",
              " 2  109265.0       1.0       2.0       3.0       1.0       NaN      3.06\n",
              " 3  109266.0       2.0      29.0       6.0       2.0       5.0      5.00\n",
              " 4  109267.0       2.0      21.0       2.0       2.0       4.0      5.00,\n",
              "        SEQN  BMXWT  BMXHT  BMXBMI\n",
              " 0  109263.0    NaN    NaN     NaN\n",
              " 1  109264.0   42.2  154.7    17.6\n",
              " 2  109265.0   12.0   89.3    15.0\n",
              " 3  109266.0   97.1  160.2    37.8\n",
              " 4  109269.0   13.6    NaN     NaN,\n",
              "        SEQN  DIQ010\n",
              " 0  109263.0     2.0\n",
              " 1  109264.0     2.0\n",
              " 2  109265.0     2.0\n",
              " 3  109266.0     2.0\n",
              " 4  109267.0     2.0,\n",
              "        SEQN  PAQ620  PAQ665\n",
              " 0  109266.0     2.0     1.0\n",
              " 1  109267.0     2.0     2.0\n",
              " 2  109268.0     1.0     2.0\n",
              " 3  109271.0     1.0     2.0\n",
              " 4  109273.0     2.0     1.0,\n",
              "        SEQN        DPQ020        DPQ050\n",
              " 0  109266.0  5.397605e-79  5.397605e-79\n",
              " 1  109271.0  1.000000e+00  5.397605e-79\n",
              " 2  109273.0  2.000000e+00  2.000000e+00\n",
              " 3  109274.0  5.397605e-79  5.397605e-79\n",
              " 4  109282.0  1.000000e+00  5.397605e-79,\n",
              "        SEQN  SLD012  SLD013\n",
              " 0  109266.0     7.5     8.0\n",
              " 1  109267.0     8.0     8.0\n",
              " 2  109268.0     8.5     8.0\n",
              " 3  109271.0    10.0    13.0\n",
              " 4  109273.0     6.5     8.0)"
            ]
          },
          "metadata": {},
          "execution_count": 11
        }
      ]
    },
    {
      "cell_type": "code",
      "metadata": {
        "id": "lgswKqpMbzHH",
        "colab": {
          "base_uri": "https://localhost:8080/",
          "height": 206
        },
        "outputId": "0ee85baa-4b0e-4d68-bf65-62d6b2c6843d"
      },
      "source": [
        "merged1 = pd.merge(df_demo,df_bodymeasures, on='SEQN', how='outer')\n",
        "merged1.head()"
      ],
      "execution_count": 12,
      "outputs": [
        {
          "output_type": "execute_result",
          "data": {
            "text/html": [
              "<div>\n",
              "<style scoped>\n",
              "    .dataframe tbody tr th:only-of-type {\n",
              "        vertical-align: middle;\n",
              "    }\n",
              "\n",
              "    .dataframe tbody tr th {\n",
              "        vertical-align: top;\n",
              "    }\n",
              "\n",
              "    .dataframe thead th {\n",
              "        text-align: right;\n",
              "    }\n",
              "</style>\n",
              "<table border=\"1\" class=\"dataframe\">\n",
              "  <thead>\n",
              "    <tr style=\"text-align: right;\">\n",
              "      <th></th>\n",
              "      <th>SEQN</th>\n",
              "      <th>RIAGENDR</th>\n",
              "      <th>RIDAGEYR</th>\n",
              "      <th>RIDRETH3</th>\n",
              "      <th>DMDBORN4</th>\n",
              "      <th>DMDEDUC2</th>\n",
              "      <th>INDFMPIR</th>\n",
              "      <th>BMXWT</th>\n",
              "      <th>BMXHT</th>\n",
              "      <th>BMXBMI</th>\n",
              "    </tr>\n",
              "  </thead>\n",
              "  <tbody>\n",
              "    <tr>\n",
              "      <th>0</th>\n",
              "      <td>109263.0</td>\n",
              "      <td>1.0</td>\n",
              "      <td>2.0</td>\n",
              "      <td>6.0</td>\n",
              "      <td>1.0</td>\n",
              "      <td>NaN</td>\n",
              "      <td>4.66</td>\n",
              "      <td>NaN</td>\n",
              "      <td>NaN</td>\n",
              "      <td>NaN</td>\n",
              "    </tr>\n",
              "    <tr>\n",
              "      <th>1</th>\n",
              "      <td>109264.0</td>\n",
              "      <td>2.0</td>\n",
              "      <td>13.0</td>\n",
              "      <td>1.0</td>\n",
              "      <td>1.0</td>\n",
              "      <td>NaN</td>\n",
              "      <td>0.83</td>\n",
              "      <td>42.2</td>\n",
              "      <td>154.7</td>\n",
              "      <td>17.6</td>\n",
              "    </tr>\n",
              "    <tr>\n",
              "      <th>2</th>\n",
              "      <td>109265.0</td>\n",
              "      <td>1.0</td>\n",
              "      <td>2.0</td>\n",
              "      <td>3.0</td>\n",
              "      <td>1.0</td>\n",
              "      <td>NaN</td>\n",
              "      <td>3.06</td>\n",
              "      <td>12.0</td>\n",
              "      <td>89.3</td>\n",
              "      <td>15.0</td>\n",
              "    </tr>\n",
              "    <tr>\n",
              "      <th>3</th>\n",
              "      <td>109266.0</td>\n",
              "      <td>2.0</td>\n",
              "      <td>29.0</td>\n",
              "      <td>6.0</td>\n",
              "      <td>2.0</td>\n",
              "      <td>5.0</td>\n",
              "      <td>5.00</td>\n",
              "      <td>97.1</td>\n",
              "      <td>160.2</td>\n",
              "      <td>37.8</td>\n",
              "    </tr>\n",
              "    <tr>\n",
              "      <th>4</th>\n",
              "      <td>109267.0</td>\n",
              "      <td>2.0</td>\n",
              "      <td>21.0</td>\n",
              "      <td>2.0</td>\n",
              "      <td>2.0</td>\n",
              "      <td>4.0</td>\n",
              "      <td>5.00</td>\n",
              "      <td>NaN</td>\n",
              "      <td>NaN</td>\n",
              "      <td>NaN</td>\n",
              "    </tr>\n",
              "  </tbody>\n",
              "</table>\n",
              "</div>"
            ],
            "text/plain": [
              "       SEQN  RIAGENDR  RIDAGEYR  RIDRETH3  ...  INDFMPIR  BMXWT  BMXHT  BMXBMI\n",
              "0  109263.0       1.0       2.0       6.0  ...      4.66    NaN    NaN     NaN\n",
              "1  109264.0       2.0      13.0       1.0  ...      0.83   42.2  154.7    17.6\n",
              "2  109265.0       1.0       2.0       3.0  ...      3.06   12.0   89.3    15.0\n",
              "3  109266.0       2.0      29.0       6.0  ...      5.00   97.1  160.2    37.8\n",
              "4  109267.0       2.0      21.0       2.0  ...      5.00    NaN    NaN     NaN\n",
              "\n",
              "[5 rows x 10 columns]"
            ]
          },
          "metadata": {},
          "execution_count": 12
        }
      ]
    },
    {
      "cell_type": "code",
      "metadata": {
        "id": "7HxTTcJmd3PJ",
        "colab": {
          "base_uri": "https://localhost:8080/",
          "height": 206
        },
        "outputId": "5e8af846-dc0a-4aed-8f89-b1ff38634dc9"
      },
      "source": [
        "merged2 = pd.merge(merged1, df_diabetes, how='outer')\n",
        "merged2.head()"
      ],
      "execution_count": 13,
      "outputs": [
        {
          "output_type": "execute_result",
          "data": {
            "text/html": [
              "<div>\n",
              "<style scoped>\n",
              "    .dataframe tbody tr th:only-of-type {\n",
              "        vertical-align: middle;\n",
              "    }\n",
              "\n",
              "    .dataframe tbody tr th {\n",
              "        vertical-align: top;\n",
              "    }\n",
              "\n",
              "    .dataframe thead th {\n",
              "        text-align: right;\n",
              "    }\n",
              "</style>\n",
              "<table border=\"1\" class=\"dataframe\">\n",
              "  <thead>\n",
              "    <tr style=\"text-align: right;\">\n",
              "      <th></th>\n",
              "      <th>SEQN</th>\n",
              "      <th>RIAGENDR</th>\n",
              "      <th>RIDAGEYR</th>\n",
              "      <th>RIDRETH3</th>\n",
              "      <th>DMDBORN4</th>\n",
              "      <th>DMDEDUC2</th>\n",
              "      <th>INDFMPIR</th>\n",
              "      <th>BMXWT</th>\n",
              "      <th>BMXHT</th>\n",
              "      <th>BMXBMI</th>\n",
              "      <th>DIQ010</th>\n",
              "    </tr>\n",
              "  </thead>\n",
              "  <tbody>\n",
              "    <tr>\n",
              "      <th>0</th>\n",
              "      <td>109263.0</td>\n",
              "      <td>1.0</td>\n",
              "      <td>2.0</td>\n",
              "      <td>6.0</td>\n",
              "      <td>1.0</td>\n",
              "      <td>NaN</td>\n",
              "      <td>4.66</td>\n",
              "      <td>NaN</td>\n",
              "      <td>NaN</td>\n",
              "      <td>NaN</td>\n",
              "      <td>2.0</td>\n",
              "    </tr>\n",
              "    <tr>\n",
              "      <th>1</th>\n",
              "      <td>109264.0</td>\n",
              "      <td>2.0</td>\n",
              "      <td>13.0</td>\n",
              "      <td>1.0</td>\n",
              "      <td>1.0</td>\n",
              "      <td>NaN</td>\n",
              "      <td>0.83</td>\n",
              "      <td>42.2</td>\n",
              "      <td>154.7</td>\n",
              "      <td>17.6</td>\n",
              "      <td>2.0</td>\n",
              "    </tr>\n",
              "    <tr>\n",
              "      <th>2</th>\n",
              "      <td>109265.0</td>\n",
              "      <td>1.0</td>\n",
              "      <td>2.0</td>\n",
              "      <td>3.0</td>\n",
              "      <td>1.0</td>\n",
              "      <td>NaN</td>\n",
              "      <td>3.06</td>\n",
              "      <td>12.0</td>\n",
              "      <td>89.3</td>\n",
              "      <td>15.0</td>\n",
              "      <td>2.0</td>\n",
              "    </tr>\n",
              "    <tr>\n",
              "      <th>3</th>\n",
              "      <td>109266.0</td>\n",
              "      <td>2.0</td>\n",
              "      <td>29.0</td>\n",
              "      <td>6.0</td>\n",
              "      <td>2.0</td>\n",
              "      <td>5.0</td>\n",
              "      <td>5.00</td>\n",
              "      <td>97.1</td>\n",
              "      <td>160.2</td>\n",
              "      <td>37.8</td>\n",
              "      <td>2.0</td>\n",
              "    </tr>\n",
              "    <tr>\n",
              "      <th>4</th>\n",
              "      <td>109267.0</td>\n",
              "      <td>2.0</td>\n",
              "      <td>21.0</td>\n",
              "      <td>2.0</td>\n",
              "      <td>2.0</td>\n",
              "      <td>4.0</td>\n",
              "      <td>5.00</td>\n",
              "      <td>NaN</td>\n",
              "      <td>NaN</td>\n",
              "      <td>NaN</td>\n",
              "      <td>2.0</td>\n",
              "    </tr>\n",
              "  </tbody>\n",
              "</table>\n",
              "</div>"
            ],
            "text/plain": [
              "       SEQN  RIAGENDR  RIDAGEYR  RIDRETH3  ...  BMXWT  BMXHT  BMXBMI  DIQ010\n",
              "0  109263.0       1.0       2.0       6.0  ...    NaN    NaN     NaN     2.0\n",
              "1  109264.0       2.0      13.0       1.0  ...   42.2  154.7    17.6     2.0\n",
              "2  109265.0       1.0       2.0       3.0  ...   12.0   89.3    15.0     2.0\n",
              "3  109266.0       2.0      29.0       6.0  ...   97.1  160.2    37.8     2.0\n",
              "4  109267.0       2.0      21.0       2.0  ...    NaN    NaN     NaN     2.0\n",
              "\n",
              "[5 rows x 11 columns]"
            ]
          },
          "metadata": {},
          "execution_count": 13
        }
      ]
    },
    {
      "cell_type": "code",
      "metadata": {
        "id": "ZZ_PH1Phf52T",
        "colab": {
          "base_uri": "https://localhost:8080/",
          "height": 226
        },
        "outputId": "2613602d-5943-4ebd-9f90-73bfe4de8615"
      },
      "source": [
        "merged3 = pd.merge(merged2, df_activity, how='outer')\n",
        "merged3.head()"
      ],
      "execution_count": 14,
      "outputs": [
        {
          "output_type": "execute_result",
          "data": {
            "text/html": [
              "<div>\n",
              "<style scoped>\n",
              "    .dataframe tbody tr th:only-of-type {\n",
              "        vertical-align: middle;\n",
              "    }\n",
              "\n",
              "    .dataframe tbody tr th {\n",
              "        vertical-align: top;\n",
              "    }\n",
              "\n",
              "    .dataframe thead th {\n",
              "        text-align: right;\n",
              "    }\n",
              "</style>\n",
              "<table border=\"1\" class=\"dataframe\">\n",
              "  <thead>\n",
              "    <tr style=\"text-align: right;\">\n",
              "      <th></th>\n",
              "      <th>SEQN</th>\n",
              "      <th>RIAGENDR</th>\n",
              "      <th>RIDAGEYR</th>\n",
              "      <th>RIDRETH3</th>\n",
              "      <th>DMDBORN4</th>\n",
              "      <th>DMDEDUC2</th>\n",
              "      <th>INDFMPIR</th>\n",
              "      <th>BMXWT</th>\n",
              "      <th>BMXHT</th>\n",
              "      <th>BMXBMI</th>\n",
              "      <th>DIQ010</th>\n",
              "      <th>PAQ620</th>\n",
              "      <th>PAQ665</th>\n",
              "    </tr>\n",
              "  </thead>\n",
              "  <tbody>\n",
              "    <tr>\n",
              "      <th>0</th>\n",
              "      <td>109263.0</td>\n",
              "      <td>1.0</td>\n",
              "      <td>2.0</td>\n",
              "      <td>6.0</td>\n",
              "      <td>1.0</td>\n",
              "      <td>NaN</td>\n",
              "      <td>4.66</td>\n",
              "      <td>NaN</td>\n",
              "      <td>NaN</td>\n",
              "      <td>NaN</td>\n",
              "      <td>2.0</td>\n",
              "      <td>NaN</td>\n",
              "      <td>NaN</td>\n",
              "    </tr>\n",
              "    <tr>\n",
              "      <th>1</th>\n",
              "      <td>109264.0</td>\n",
              "      <td>2.0</td>\n",
              "      <td>13.0</td>\n",
              "      <td>1.0</td>\n",
              "      <td>1.0</td>\n",
              "      <td>NaN</td>\n",
              "      <td>0.83</td>\n",
              "      <td>42.2</td>\n",
              "      <td>154.7</td>\n",
              "      <td>17.6</td>\n",
              "      <td>2.0</td>\n",
              "      <td>NaN</td>\n",
              "      <td>NaN</td>\n",
              "    </tr>\n",
              "    <tr>\n",
              "      <th>2</th>\n",
              "      <td>109265.0</td>\n",
              "      <td>1.0</td>\n",
              "      <td>2.0</td>\n",
              "      <td>3.0</td>\n",
              "      <td>1.0</td>\n",
              "      <td>NaN</td>\n",
              "      <td>3.06</td>\n",
              "      <td>12.0</td>\n",
              "      <td>89.3</td>\n",
              "      <td>15.0</td>\n",
              "      <td>2.0</td>\n",
              "      <td>NaN</td>\n",
              "      <td>NaN</td>\n",
              "    </tr>\n",
              "    <tr>\n",
              "      <th>3</th>\n",
              "      <td>109266.0</td>\n",
              "      <td>2.0</td>\n",
              "      <td>29.0</td>\n",
              "      <td>6.0</td>\n",
              "      <td>2.0</td>\n",
              "      <td>5.0</td>\n",
              "      <td>5.00</td>\n",
              "      <td>97.1</td>\n",
              "      <td>160.2</td>\n",
              "      <td>37.8</td>\n",
              "      <td>2.0</td>\n",
              "      <td>2.0</td>\n",
              "      <td>1.0</td>\n",
              "    </tr>\n",
              "    <tr>\n",
              "      <th>4</th>\n",
              "      <td>109267.0</td>\n",
              "      <td>2.0</td>\n",
              "      <td>21.0</td>\n",
              "      <td>2.0</td>\n",
              "      <td>2.0</td>\n",
              "      <td>4.0</td>\n",
              "      <td>5.00</td>\n",
              "      <td>NaN</td>\n",
              "      <td>NaN</td>\n",
              "      <td>NaN</td>\n",
              "      <td>2.0</td>\n",
              "      <td>2.0</td>\n",
              "      <td>2.0</td>\n",
              "    </tr>\n",
              "  </tbody>\n",
              "</table>\n",
              "</div>"
            ],
            "text/plain": [
              "       SEQN  RIAGENDR  RIDAGEYR  RIDRETH3  ...  BMXBMI  DIQ010  PAQ620  PAQ665\n",
              "0  109263.0       1.0       2.0       6.0  ...     NaN     2.0     NaN     NaN\n",
              "1  109264.0       2.0      13.0       1.0  ...    17.6     2.0     NaN     NaN\n",
              "2  109265.0       1.0       2.0       3.0  ...    15.0     2.0     NaN     NaN\n",
              "3  109266.0       2.0      29.0       6.0  ...    37.8     2.0     2.0     1.0\n",
              "4  109267.0       2.0      21.0       2.0  ...     NaN     2.0     2.0     2.0\n",
              "\n",
              "[5 rows x 13 columns]"
            ]
          },
          "metadata": {},
          "execution_count": 14
        }
      ]
    },
    {
      "cell_type": "code",
      "metadata": {
        "id": "qx1iGiaygIP6",
        "colab": {
          "base_uri": "https://localhost:8080/",
          "height": 244
        },
        "outputId": "d90e3d1a-0b65-4776-cba4-7c2d3d7d8cc7"
      },
      "source": [
        "merged4 = pd.merge(merged3, df_mentalhealth, how='outer')\n",
        "merged4.head()"
      ],
      "execution_count": 15,
      "outputs": [
        {
          "output_type": "execute_result",
          "data": {
            "text/html": [
              "<div>\n",
              "<style scoped>\n",
              "    .dataframe tbody tr th:only-of-type {\n",
              "        vertical-align: middle;\n",
              "    }\n",
              "\n",
              "    .dataframe tbody tr th {\n",
              "        vertical-align: top;\n",
              "    }\n",
              "\n",
              "    .dataframe thead th {\n",
              "        text-align: right;\n",
              "    }\n",
              "</style>\n",
              "<table border=\"1\" class=\"dataframe\">\n",
              "  <thead>\n",
              "    <tr style=\"text-align: right;\">\n",
              "      <th></th>\n",
              "      <th>SEQN</th>\n",
              "      <th>RIAGENDR</th>\n",
              "      <th>RIDAGEYR</th>\n",
              "      <th>RIDRETH3</th>\n",
              "      <th>DMDBORN4</th>\n",
              "      <th>DMDEDUC2</th>\n",
              "      <th>INDFMPIR</th>\n",
              "      <th>BMXWT</th>\n",
              "      <th>BMXHT</th>\n",
              "      <th>BMXBMI</th>\n",
              "      <th>DIQ010</th>\n",
              "      <th>PAQ620</th>\n",
              "      <th>PAQ665</th>\n",
              "      <th>DPQ020</th>\n",
              "      <th>DPQ050</th>\n",
              "    </tr>\n",
              "  </thead>\n",
              "  <tbody>\n",
              "    <tr>\n",
              "      <th>0</th>\n",
              "      <td>109263.0</td>\n",
              "      <td>1.0</td>\n",
              "      <td>2.0</td>\n",
              "      <td>6.0</td>\n",
              "      <td>1.0</td>\n",
              "      <td>NaN</td>\n",
              "      <td>4.66</td>\n",
              "      <td>NaN</td>\n",
              "      <td>NaN</td>\n",
              "      <td>NaN</td>\n",
              "      <td>2.0</td>\n",
              "      <td>NaN</td>\n",
              "      <td>NaN</td>\n",
              "      <td>NaN</td>\n",
              "      <td>NaN</td>\n",
              "    </tr>\n",
              "    <tr>\n",
              "      <th>1</th>\n",
              "      <td>109264.0</td>\n",
              "      <td>2.0</td>\n",
              "      <td>13.0</td>\n",
              "      <td>1.0</td>\n",
              "      <td>1.0</td>\n",
              "      <td>NaN</td>\n",
              "      <td>0.83</td>\n",
              "      <td>42.2</td>\n",
              "      <td>154.7</td>\n",
              "      <td>17.6</td>\n",
              "      <td>2.0</td>\n",
              "      <td>NaN</td>\n",
              "      <td>NaN</td>\n",
              "      <td>NaN</td>\n",
              "      <td>NaN</td>\n",
              "    </tr>\n",
              "    <tr>\n",
              "      <th>2</th>\n",
              "      <td>109265.0</td>\n",
              "      <td>1.0</td>\n",
              "      <td>2.0</td>\n",
              "      <td>3.0</td>\n",
              "      <td>1.0</td>\n",
              "      <td>NaN</td>\n",
              "      <td>3.06</td>\n",
              "      <td>12.0</td>\n",
              "      <td>89.3</td>\n",
              "      <td>15.0</td>\n",
              "      <td>2.0</td>\n",
              "      <td>NaN</td>\n",
              "      <td>NaN</td>\n",
              "      <td>NaN</td>\n",
              "      <td>NaN</td>\n",
              "    </tr>\n",
              "    <tr>\n",
              "      <th>3</th>\n",
              "      <td>109266.0</td>\n",
              "      <td>2.0</td>\n",
              "      <td>29.0</td>\n",
              "      <td>6.0</td>\n",
              "      <td>2.0</td>\n",
              "      <td>5.0</td>\n",
              "      <td>5.00</td>\n",
              "      <td>97.1</td>\n",
              "      <td>160.2</td>\n",
              "      <td>37.8</td>\n",
              "      <td>2.0</td>\n",
              "      <td>2.0</td>\n",
              "      <td>1.0</td>\n",
              "      <td>5.397605e-79</td>\n",
              "      <td>5.397605e-79</td>\n",
              "    </tr>\n",
              "    <tr>\n",
              "      <th>4</th>\n",
              "      <td>109267.0</td>\n",
              "      <td>2.0</td>\n",
              "      <td>21.0</td>\n",
              "      <td>2.0</td>\n",
              "      <td>2.0</td>\n",
              "      <td>4.0</td>\n",
              "      <td>5.00</td>\n",
              "      <td>NaN</td>\n",
              "      <td>NaN</td>\n",
              "      <td>NaN</td>\n",
              "      <td>2.0</td>\n",
              "      <td>2.0</td>\n",
              "      <td>2.0</td>\n",
              "      <td>NaN</td>\n",
              "      <td>NaN</td>\n",
              "    </tr>\n",
              "  </tbody>\n",
              "</table>\n",
              "</div>"
            ],
            "text/plain": [
              "       SEQN  RIAGENDR  RIDAGEYR  ...  PAQ665        DPQ020        DPQ050\n",
              "0  109263.0       1.0       2.0  ...     NaN           NaN           NaN\n",
              "1  109264.0       2.0      13.0  ...     NaN           NaN           NaN\n",
              "2  109265.0       1.0       2.0  ...     NaN           NaN           NaN\n",
              "3  109266.0       2.0      29.0  ...     1.0  5.397605e-79  5.397605e-79\n",
              "4  109267.0       2.0      21.0  ...     2.0           NaN           NaN\n",
              "\n",
              "[5 rows x 15 columns]"
            ]
          },
          "metadata": {},
          "execution_count": 15
        }
      ]
    },
    {
      "cell_type": "code",
      "metadata": {
        "id": "OPblah1zgNtN"
      },
      "source": [
        "df_final = pd.merge(merged4, df_sleepdisorder, how='outer')"
      ],
      "execution_count": 16,
      "outputs": []
    },
    {
      "cell_type": "code",
      "metadata": {
        "id": "9GrXa6_u8nRz"
      },
      "source": [
        "# rename the columns\n",
        "df_tidy = df_final.rename(columns = {'SEQN':'SEQN','RIAGENDR':'Gender','RIDAGEYR':'Age','RIDRETH3':'Race',\n",
        "                               'DMDBORN4':'CountryofBirth','DMDEDUC2':'Education',\n",
        "                               'INDFMPIR':'FamIncomeRatio', 'BMXWT':'Weight','BMXHT':'Height',\n",
        "                               'BMXBMI':'BMI','DIQ010':'Diabetes',\n",
        "                               'PAQ620':'ModerateWorkActivity','PAQ665':'ModerateRecreationalActivities',\n",
        "                               'DPQ020':'Depressed', 'DPQ050':'PoorAppetiteOvereating',\n",
        "                               'SLD012':'SleepHoursWeekdays', 'SLD013':'SleepHoursWeekend'}, inplace = False)"
      ],
      "execution_count": 17,
      "outputs": []
    },
    {
      "cell_type": "code",
      "metadata": {
        "id": "_0ymOaBm_Xh_",
        "colab": {
          "base_uri": "https://localhost:8080/",
          "height": 244
        },
        "outputId": "83622ef3-6aed-440c-b79b-501752529e00"
      },
      "source": [
        "df_tidy.head()"
      ],
      "execution_count": 18,
      "outputs": [
        {
          "output_type": "execute_result",
          "data": {
            "text/html": [
              "<div>\n",
              "<style scoped>\n",
              "    .dataframe tbody tr th:only-of-type {\n",
              "        vertical-align: middle;\n",
              "    }\n",
              "\n",
              "    .dataframe tbody tr th {\n",
              "        vertical-align: top;\n",
              "    }\n",
              "\n",
              "    .dataframe thead th {\n",
              "        text-align: right;\n",
              "    }\n",
              "</style>\n",
              "<table border=\"1\" class=\"dataframe\">\n",
              "  <thead>\n",
              "    <tr style=\"text-align: right;\">\n",
              "      <th></th>\n",
              "      <th>SEQN</th>\n",
              "      <th>Gender</th>\n",
              "      <th>Age</th>\n",
              "      <th>Race</th>\n",
              "      <th>CountryofBirth</th>\n",
              "      <th>Education</th>\n",
              "      <th>FamIncomeRatio</th>\n",
              "      <th>Weight</th>\n",
              "      <th>Height</th>\n",
              "      <th>BMI</th>\n",
              "      <th>Diabetes</th>\n",
              "      <th>ModerateWorkActivity</th>\n",
              "      <th>ModerateRecreationalActivities</th>\n",
              "      <th>Depressed</th>\n",
              "      <th>PoorAppetiteOvereating</th>\n",
              "      <th>SleepHoursWeekdays</th>\n",
              "      <th>SleepHoursWeekend</th>\n",
              "    </tr>\n",
              "  </thead>\n",
              "  <tbody>\n",
              "    <tr>\n",
              "      <th>0</th>\n",
              "      <td>109263.0</td>\n",
              "      <td>1.0</td>\n",
              "      <td>2.0</td>\n",
              "      <td>6.0</td>\n",
              "      <td>1.0</td>\n",
              "      <td>NaN</td>\n",
              "      <td>4.66</td>\n",
              "      <td>NaN</td>\n",
              "      <td>NaN</td>\n",
              "      <td>NaN</td>\n",
              "      <td>2.0</td>\n",
              "      <td>NaN</td>\n",
              "      <td>NaN</td>\n",
              "      <td>NaN</td>\n",
              "      <td>NaN</td>\n",
              "      <td>NaN</td>\n",
              "      <td>NaN</td>\n",
              "    </tr>\n",
              "    <tr>\n",
              "      <th>1</th>\n",
              "      <td>109264.0</td>\n",
              "      <td>2.0</td>\n",
              "      <td>13.0</td>\n",
              "      <td>1.0</td>\n",
              "      <td>1.0</td>\n",
              "      <td>NaN</td>\n",
              "      <td>0.83</td>\n",
              "      <td>42.2</td>\n",
              "      <td>154.7</td>\n",
              "      <td>17.6</td>\n",
              "      <td>2.0</td>\n",
              "      <td>NaN</td>\n",
              "      <td>NaN</td>\n",
              "      <td>NaN</td>\n",
              "      <td>NaN</td>\n",
              "      <td>NaN</td>\n",
              "      <td>NaN</td>\n",
              "    </tr>\n",
              "    <tr>\n",
              "      <th>2</th>\n",
              "      <td>109265.0</td>\n",
              "      <td>1.0</td>\n",
              "      <td>2.0</td>\n",
              "      <td>3.0</td>\n",
              "      <td>1.0</td>\n",
              "      <td>NaN</td>\n",
              "      <td>3.06</td>\n",
              "      <td>12.0</td>\n",
              "      <td>89.3</td>\n",
              "      <td>15.0</td>\n",
              "      <td>2.0</td>\n",
              "      <td>NaN</td>\n",
              "      <td>NaN</td>\n",
              "      <td>NaN</td>\n",
              "      <td>NaN</td>\n",
              "      <td>NaN</td>\n",
              "      <td>NaN</td>\n",
              "    </tr>\n",
              "    <tr>\n",
              "      <th>3</th>\n",
              "      <td>109266.0</td>\n",
              "      <td>2.0</td>\n",
              "      <td>29.0</td>\n",
              "      <td>6.0</td>\n",
              "      <td>2.0</td>\n",
              "      <td>5.0</td>\n",
              "      <td>5.00</td>\n",
              "      <td>97.1</td>\n",
              "      <td>160.2</td>\n",
              "      <td>37.8</td>\n",
              "      <td>2.0</td>\n",
              "      <td>2.0</td>\n",
              "      <td>1.0</td>\n",
              "      <td>5.397605e-79</td>\n",
              "      <td>5.397605e-79</td>\n",
              "      <td>7.5</td>\n",
              "      <td>8.0</td>\n",
              "    </tr>\n",
              "    <tr>\n",
              "      <th>4</th>\n",
              "      <td>109267.0</td>\n",
              "      <td>2.0</td>\n",
              "      <td>21.0</td>\n",
              "      <td>2.0</td>\n",
              "      <td>2.0</td>\n",
              "      <td>4.0</td>\n",
              "      <td>5.00</td>\n",
              "      <td>NaN</td>\n",
              "      <td>NaN</td>\n",
              "      <td>NaN</td>\n",
              "      <td>2.0</td>\n",
              "      <td>2.0</td>\n",
              "      <td>2.0</td>\n",
              "      <td>NaN</td>\n",
              "      <td>NaN</td>\n",
              "      <td>8.0</td>\n",
              "      <td>8.0</td>\n",
              "    </tr>\n",
              "  </tbody>\n",
              "</table>\n",
              "</div>"
            ],
            "text/plain": [
              "       SEQN  Gender  ...  SleepHoursWeekdays  SleepHoursWeekend\n",
              "0  109263.0     1.0  ...                 NaN                NaN\n",
              "1  109264.0     2.0  ...                 NaN                NaN\n",
              "2  109265.0     1.0  ...                 NaN                NaN\n",
              "3  109266.0     2.0  ...                 7.5                8.0\n",
              "4  109267.0     2.0  ...                 8.0                8.0\n",
              "\n",
              "[5 rows x 17 columns]"
            ]
          },
          "metadata": {},
          "execution_count": 18
        }
      ]
    },
    {
      "cell_type": "code",
      "metadata": {
        "id": "9pBZsqtIhT8_",
        "colab": {
          "base_uri": "https://localhost:8080/",
          "height": 320
        },
        "outputId": "85efbb6d-3ada-4e4e-919f-1e4e95a07c47"
      },
      "source": [
        "# checking data info\n",
        "df_tidy.describe(include = 'all')"
      ],
      "execution_count": 19,
      "outputs": [
        {
          "output_type": "execute_result",
          "data": {
            "text/html": [
              "<div>\n",
              "<style scoped>\n",
              "    .dataframe tbody tr th:only-of-type {\n",
              "        vertical-align: middle;\n",
              "    }\n",
              "\n",
              "    .dataframe tbody tr th {\n",
              "        vertical-align: top;\n",
              "    }\n",
              "\n",
              "    .dataframe thead th {\n",
              "        text-align: right;\n",
              "    }\n",
              "</style>\n",
              "<table border=\"1\" class=\"dataframe\">\n",
              "  <thead>\n",
              "    <tr style=\"text-align: right;\">\n",
              "      <th></th>\n",
              "      <th>SEQN</th>\n",
              "      <th>Gender</th>\n",
              "      <th>Age</th>\n",
              "      <th>Race</th>\n",
              "      <th>CountryofBirth</th>\n",
              "      <th>Education</th>\n",
              "      <th>FamIncomeRatio</th>\n",
              "      <th>Weight</th>\n",
              "      <th>Height</th>\n",
              "      <th>BMI</th>\n",
              "      <th>Diabetes</th>\n",
              "      <th>ModerateWorkActivity</th>\n",
              "      <th>ModerateRecreationalActivities</th>\n",
              "      <th>Depressed</th>\n",
              "      <th>PoorAppetiteOvereating</th>\n",
              "      <th>SleepHoursWeekdays</th>\n",
              "      <th>SleepHoursWeekend</th>\n",
              "    </tr>\n",
              "  </thead>\n",
              "  <tbody>\n",
              "    <tr>\n",
              "      <th>count</th>\n",
              "      <td>15560.00000</td>\n",
              "      <td>15560.000000</td>\n",
              "      <td>1.556000e+04</td>\n",
              "      <td>15560.000000</td>\n",
              "      <td>15560.000000</td>\n",
              "      <td>9232.000000</td>\n",
              "      <td>1.335900e+04</td>\n",
              "      <td>14075.00000</td>\n",
              "      <td>13157.000000</td>\n",
              "      <td>13137.000000</td>\n",
              "      <td>14986.000000</td>\n",
              "      <td>9693.000000</td>\n",
              "      <td>9693.000000</td>\n",
              "      <td>8.306000e+03</td>\n",
              "      <td>8.305000e+03</td>\n",
              "      <td>10105.000000</td>\n",
              "      <td>10099.000000</td>\n",
              "    </tr>\n",
              "    <tr>\n",
              "      <th>mean</th>\n",
              "      <td>117042.50000</td>\n",
              "      <td>1.503792</td>\n",
              "      <td>3.374248e+01</td>\n",
              "      <td>3.486118</td>\n",
              "      <td>1.230206</td>\n",
              "      <td>3.551993</td>\n",
              "      <td>2.405937e+00</td>\n",
              "      <td>65.42638</td>\n",
              "      <td>156.490188</td>\n",
              "      <td>26.656847</td>\n",
              "      <td>1.926265</td>\n",
              "      <td>1.573094</td>\n",
              "      <td>1.598679</td>\n",
              "      <td>3.727426e-01</td>\n",
              "      <td>4.096328e-01</td>\n",
              "      <td>7.640920</td>\n",
              "      <td>8.361768</td>\n",
              "    </tr>\n",
              "    <tr>\n",
              "      <th>std</th>\n",
              "      <td>4491.92943</td>\n",
              "      <td>0.500002</td>\n",
              "      <td>2.532053e+01</td>\n",
              "      <td>1.622734</td>\n",
              "      <td>1.728083</td>\n",
              "      <td>1.214109</td>\n",
              "      <td>1.634346e+00</td>\n",
              "      <td>33.33188</td>\n",
              "      <td>22.621413</td>\n",
              "      <td>8.419842</td>\n",
              "      <td>0.368923</td>\n",
              "      <td>0.533974</td>\n",
              "      <td>0.501840</td>\n",
              "      <td>7.581775e-01</td>\n",
              "      <td>8.190316e-01</td>\n",
              "      <td>1.682628</td>\n",
              "      <td>1.824088</td>\n",
              "    </tr>\n",
              "    <tr>\n",
              "      <th>min</th>\n",
              "      <td>109263.00000</td>\n",
              "      <td>1.000000</td>\n",
              "      <td>5.397605e-79</td>\n",
              "      <td>1.000000</td>\n",
              "      <td>1.000000</td>\n",
              "      <td>1.000000</td>\n",
              "      <td>5.397605e-79</td>\n",
              "      <td>3.20000</td>\n",
              "      <td>78.300000</td>\n",
              "      <td>11.900000</td>\n",
              "      <td>1.000000</td>\n",
              "      <td>1.000000</td>\n",
              "      <td>1.000000</td>\n",
              "      <td>5.397605e-79</td>\n",
              "      <td>5.397605e-79</td>\n",
              "      <td>2.000000</td>\n",
              "      <td>2.000000</td>\n",
              "    </tr>\n",
              "    <tr>\n",
              "      <th>25%</th>\n",
              "      <td>113152.75000</td>\n",
              "      <td>1.000000</td>\n",
              "      <td>1.000000e+01</td>\n",
              "      <td>3.000000</td>\n",
              "      <td>1.000000</td>\n",
              "      <td>3.000000</td>\n",
              "      <td>1.020000e+00</td>\n",
              "      <td>42.30000</td>\n",
              "      <td>151.100000</td>\n",
              "      <td>20.400000</td>\n",
              "      <td>2.000000</td>\n",
              "      <td>1.000000</td>\n",
              "      <td>1.000000</td>\n",
              "      <td>5.397605e-79</td>\n",
              "      <td>5.397605e-79</td>\n",
              "      <td>7.000000</td>\n",
              "      <td>7.000000</td>\n",
              "    </tr>\n",
              "    <tr>\n",
              "      <th>50%</th>\n",
              "      <td>117042.50000</td>\n",
              "      <td>2.000000</td>\n",
              "      <td>3.000000e+01</td>\n",
              "      <td>3.000000</td>\n",
              "      <td>1.000000</td>\n",
              "      <td>4.000000</td>\n",
              "      <td>1.960000e+00</td>\n",
              "      <td>68.10000</td>\n",
              "      <td>162.100000</td>\n",
              "      <td>25.800000</td>\n",
              "      <td>2.000000</td>\n",
              "      <td>2.000000</td>\n",
              "      <td>2.000000</td>\n",
              "      <td>5.397605e-79</td>\n",
              "      <td>5.397605e-79</td>\n",
              "      <td>7.500000</td>\n",
              "      <td>8.000000</td>\n",
              "    </tr>\n",
              "    <tr>\n",
              "      <th>75%</th>\n",
              "      <td>120932.25000</td>\n",
              "      <td>2.000000</td>\n",
              "      <td>5.600000e+01</td>\n",
              "      <td>4.000000</td>\n",
              "      <td>1.000000</td>\n",
              "      <td>4.000000</td>\n",
              "      <td>3.880000e+00</td>\n",
              "      <td>86.30000</td>\n",
              "      <td>171.300000</td>\n",
              "      <td>31.400000</td>\n",
              "      <td>2.000000</td>\n",
              "      <td>2.000000</td>\n",
              "      <td>2.000000</td>\n",
              "      <td>1.000000e+00</td>\n",
              "      <td>1.000000e+00</td>\n",
              "      <td>8.500000</td>\n",
              "      <td>9.500000</td>\n",
              "    </tr>\n",
              "    <tr>\n",
              "      <th>max</th>\n",
              "      <td>124822.00000</td>\n",
              "      <td>2.000000</td>\n",
              "      <td>8.000000e+01</td>\n",
              "      <td>7.000000</td>\n",
              "      <td>99.000000</td>\n",
              "      <td>9.000000</td>\n",
              "      <td>5.000000e+00</td>\n",
              "      <td>254.30000</td>\n",
              "      <td>199.600000</td>\n",
              "      <td>92.300000</td>\n",
              "      <td>9.000000</td>\n",
              "      <td>9.000000</td>\n",
              "      <td>9.000000</td>\n",
              "      <td>9.000000e+00</td>\n",
              "      <td>9.000000e+00</td>\n",
              "      <td>14.000000</td>\n",
              "      <td>14.000000</td>\n",
              "    </tr>\n",
              "  </tbody>\n",
              "</table>\n",
              "</div>"
            ],
            "text/plain": [
              "               SEQN        Gender  ...  SleepHoursWeekdays  SleepHoursWeekend\n",
              "count   15560.00000  15560.000000  ...        10105.000000       10099.000000\n",
              "mean   117042.50000      1.503792  ...            7.640920           8.361768\n",
              "std      4491.92943      0.500002  ...            1.682628           1.824088\n",
              "min    109263.00000      1.000000  ...            2.000000           2.000000\n",
              "25%    113152.75000      1.000000  ...            7.000000           7.000000\n",
              "50%    117042.50000      2.000000  ...            7.500000           8.000000\n",
              "75%    120932.25000      2.000000  ...            8.500000           9.500000\n",
              "max    124822.00000      2.000000  ...           14.000000          14.000000\n",
              "\n",
              "[8 rows x 17 columns]"
            ]
          },
          "metadata": {},
          "execution_count": 19
        }
      ]
    },
    {
      "cell_type": "code",
      "metadata": {
        "id": "kyRk8A6RhXK3",
        "colab": {
          "base_uri": "https://localhost:8080/"
        },
        "outputId": "2ca7fbd9-4bb8-4f4c-c1a1-c0a490ae291e"
      },
      "source": [
        "# dataframe size\n",
        "df_tidy.shape"
      ],
      "execution_count": 20,
      "outputs": [
        {
          "output_type": "execute_result",
          "data": {
            "text/plain": [
              "(15560, 17)"
            ]
          },
          "metadata": {},
          "execution_count": 20
        }
      ]
    },
    {
      "cell_type": "markdown",
      "metadata": {
        "id": "Txok-B4qC8Ja"
      },
      "source": [
        "## Clean Data"
      ]
    },
    {
      "cell_type": "markdown",
      "metadata": {
        "id": "ragi61fTDFlp"
      },
      "source": [
        "#### Complete or delete missing values in datasets"
      ]
    },
    {
      "cell_type": "code",
      "metadata": {
        "id": "ai0icf7YH-24",
        "colab": {
          "base_uri": "https://localhost:8080/",
          "height": 244
        },
        "outputId": "c46ce856-2398-4087-9f09-db632abca7a9"
      },
      "source": [
        "df_tidy.head()"
      ],
      "execution_count": 21,
      "outputs": [
        {
          "output_type": "execute_result",
          "data": {
            "text/html": [
              "<div>\n",
              "<style scoped>\n",
              "    .dataframe tbody tr th:only-of-type {\n",
              "        vertical-align: middle;\n",
              "    }\n",
              "\n",
              "    .dataframe tbody tr th {\n",
              "        vertical-align: top;\n",
              "    }\n",
              "\n",
              "    .dataframe thead th {\n",
              "        text-align: right;\n",
              "    }\n",
              "</style>\n",
              "<table border=\"1\" class=\"dataframe\">\n",
              "  <thead>\n",
              "    <tr style=\"text-align: right;\">\n",
              "      <th></th>\n",
              "      <th>SEQN</th>\n",
              "      <th>Gender</th>\n",
              "      <th>Age</th>\n",
              "      <th>Race</th>\n",
              "      <th>CountryofBirth</th>\n",
              "      <th>Education</th>\n",
              "      <th>FamIncomeRatio</th>\n",
              "      <th>Weight</th>\n",
              "      <th>Height</th>\n",
              "      <th>BMI</th>\n",
              "      <th>Diabetes</th>\n",
              "      <th>ModerateWorkActivity</th>\n",
              "      <th>ModerateRecreationalActivities</th>\n",
              "      <th>Depressed</th>\n",
              "      <th>PoorAppetiteOvereating</th>\n",
              "      <th>SleepHoursWeekdays</th>\n",
              "      <th>SleepHoursWeekend</th>\n",
              "    </tr>\n",
              "  </thead>\n",
              "  <tbody>\n",
              "    <tr>\n",
              "      <th>0</th>\n",
              "      <td>109263.0</td>\n",
              "      <td>1.0</td>\n",
              "      <td>2.0</td>\n",
              "      <td>6.0</td>\n",
              "      <td>1.0</td>\n",
              "      <td>NaN</td>\n",
              "      <td>4.66</td>\n",
              "      <td>NaN</td>\n",
              "      <td>NaN</td>\n",
              "      <td>NaN</td>\n",
              "      <td>2.0</td>\n",
              "      <td>NaN</td>\n",
              "      <td>NaN</td>\n",
              "      <td>NaN</td>\n",
              "      <td>NaN</td>\n",
              "      <td>NaN</td>\n",
              "      <td>NaN</td>\n",
              "    </tr>\n",
              "    <tr>\n",
              "      <th>1</th>\n",
              "      <td>109264.0</td>\n",
              "      <td>2.0</td>\n",
              "      <td>13.0</td>\n",
              "      <td>1.0</td>\n",
              "      <td>1.0</td>\n",
              "      <td>NaN</td>\n",
              "      <td>0.83</td>\n",
              "      <td>42.2</td>\n",
              "      <td>154.7</td>\n",
              "      <td>17.6</td>\n",
              "      <td>2.0</td>\n",
              "      <td>NaN</td>\n",
              "      <td>NaN</td>\n",
              "      <td>NaN</td>\n",
              "      <td>NaN</td>\n",
              "      <td>NaN</td>\n",
              "      <td>NaN</td>\n",
              "    </tr>\n",
              "    <tr>\n",
              "      <th>2</th>\n",
              "      <td>109265.0</td>\n",
              "      <td>1.0</td>\n",
              "      <td>2.0</td>\n",
              "      <td>3.0</td>\n",
              "      <td>1.0</td>\n",
              "      <td>NaN</td>\n",
              "      <td>3.06</td>\n",
              "      <td>12.0</td>\n",
              "      <td>89.3</td>\n",
              "      <td>15.0</td>\n",
              "      <td>2.0</td>\n",
              "      <td>NaN</td>\n",
              "      <td>NaN</td>\n",
              "      <td>NaN</td>\n",
              "      <td>NaN</td>\n",
              "      <td>NaN</td>\n",
              "      <td>NaN</td>\n",
              "    </tr>\n",
              "    <tr>\n",
              "      <th>3</th>\n",
              "      <td>109266.0</td>\n",
              "      <td>2.0</td>\n",
              "      <td>29.0</td>\n",
              "      <td>6.0</td>\n",
              "      <td>2.0</td>\n",
              "      <td>5.0</td>\n",
              "      <td>5.00</td>\n",
              "      <td>97.1</td>\n",
              "      <td>160.2</td>\n",
              "      <td>37.8</td>\n",
              "      <td>2.0</td>\n",
              "      <td>2.0</td>\n",
              "      <td>1.0</td>\n",
              "      <td>5.397605e-79</td>\n",
              "      <td>5.397605e-79</td>\n",
              "      <td>7.5</td>\n",
              "      <td>8.0</td>\n",
              "    </tr>\n",
              "    <tr>\n",
              "      <th>4</th>\n",
              "      <td>109267.0</td>\n",
              "      <td>2.0</td>\n",
              "      <td>21.0</td>\n",
              "      <td>2.0</td>\n",
              "      <td>2.0</td>\n",
              "      <td>4.0</td>\n",
              "      <td>5.00</td>\n",
              "      <td>NaN</td>\n",
              "      <td>NaN</td>\n",
              "      <td>NaN</td>\n",
              "      <td>2.0</td>\n",
              "      <td>2.0</td>\n",
              "      <td>2.0</td>\n",
              "      <td>NaN</td>\n",
              "      <td>NaN</td>\n",
              "      <td>8.0</td>\n",
              "      <td>8.0</td>\n",
              "    </tr>\n",
              "  </tbody>\n",
              "</table>\n",
              "</div>"
            ],
            "text/plain": [
              "       SEQN  Gender  ...  SleepHoursWeekdays  SleepHoursWeekend\n",
              "0  109263.0     1.0  ...                 NaN                NaN\n",
              "1  109264.0     2.0  ...                 NaN                NaN\n",
              "2  109265.0     1.0  ...                 NaN                NaN\n",
              "3  109266.0     2.0  ...                 7.5                8.0\n",
              "4  109267.0     2.0  ...                 8.0                8.0\n",
              "\n",
              "[5 rows x 17 columns]"
            ]
          },
          "metadata": {},
          "execution_count": 21
        }
      ]
    },
    {
      "cell_type": "code",
      "metadata": {
        "colab": {
          "base_uri": "https://localhost:8080/"
        },
        "id": "-FVk5YnZfDEA",
        "outputId": "0513a4e1-382d-4d5c-8b93-646eea478490"
      },
      "source": [
        "df_tidy.isnull().sum()"
      ],
      "execution_count": 22,
      "outputs": [
        {
          "output_type": "execute_result",
          "data": {
            "text/plain": [
              "SEQN                                 0\n",
              "Gender                               0\n",
              "Age                                  0\n",
              "Race                                 0\n",
              "CountryofBirth                       0\n",
              "Education                         6328\n",
              "FamIncomeRatio                    2201\n",
              "Weight                            1485\n",
              "Height                            2403\n",
              "BMI                               2423\n",
              "Diabetes                           574\n",
              "ModerateWorkActivity              5867\n",
              "ModerateRecreationalActivities    5867\n",
              "Depressed                         7254\n",
              "PoorAppetiteOvereating            7255\n",
              "SleepHoursWeekdays                5455\n",
              "SleepHoursWeekend                 5461\n",
              "dtype: int64"
            ]
          },
          "metadata": {},
          "execution_count": 22
        }
      ]
    },
    {
      "cell_type": "code",
      "metadata": {
        "colab": {
          "base_uri": "https://localhost:8080/",
          "height": 444
        },
        "id": "ST2HKsjIiEMy",
        "outputId": "3beac174-5f36-40ef-f2bd-9bdaa5804f21"
      },
      "source": [
        "df_clean = df_tidy.dropna(subset=['BMI'])\n",
        "df_clean"
      ],
      "execution_count": 23,
      "outputs": [
        {
          "output_type": "execute_result",
          "data": {
            "text/html": [
              "<div>\n",
              "<style scoped>\n",
              "    .dataframe tbody tr th:only-of-type {\n",
              "        vertical-align: middle;\n",
              "    }\n",
              "\n",
              "    .dataframe tbody tr th {\n",
              "        vertical-align: top;\n",
              "    }\n",
              "\n",
              "    .dataframe thead th {\n",
              "        text-align: right;\n",
              "    }\n",
              "</style>\n",
              "<table border=\"1\" class=\"dataframe\">\n",
              "  <thead>\n",
              "    <tr style=\"text-align: right;\">\n",
              "      <th></th>\n",
              "      <th>SEQN</th>\n",
              "      <th>Gender</th>\n",
              "      <th>Age</th>\n",
              "      <th>Race</th>\n",
              "      <th>CountryofBirth</th>\n",
              "      <th>Education</th>\n",
              "      <th>FamIncomeRatio</th>\n",
              "      <th>Weight</th>\n",
              "      <th>Height</th>\n",
              "      <th>BMI</th>\n",
              "      <th>Diabetes</th>\n",
              "      <th>ModerateWorkActivity</th>\n",
              "      <th>ModerateRecreationalActivities</th>\n",
              "      <th>Depressed</th>\n",
              "      <th>PoorAppetiteOvereating</th>\n",
              "      <th>SleepHoursWeekdays</th>\n",
              "      <th>SleepHoursWeekend</th>\n",
              "    </tr>\n",
              "  </thead>\n",
              "  <tbody>\n",
              "    <tr>\n",
              "      <th>1</th>\n",
              "      <td>109264.0</td>\n",
              "      <td>2.0</td>\n",
              "      <td>13.0</td>\n",
              "      <td>1.0</td>\n",
              "      <td>1.0</td>\n",
              "      <td>NaN</td>\n",
              "      <td>0.83</td>\n",
              "      <td>42.2</td>\n",
              "      <td>154.7</td>\n",
              "      <td>17.6</td>\n",
              "      <td>2.0</td>\n",
              "      <td>NaN</td>\n",
              "      <td>NaN</td>\n",
              "      <td>NaN</td>\n",
              "      <td>NaN</td>\n",
              "      <td>NaN</td>\n",
              "      <td>NaN</td>\n",
              "    </tr>\n",
              "    <tr>\n",
              "      <th>2</th>\n",
              "      <td>109265.0</td>\n",
              "      <td>1.0</td>\n",
              "      <td>2.0</td>\n",
              "      <td>3.0</td>\n",
              "      <td>1.0</td>\n",
              "      <td>NaN</td>\n",
              "      <td>3.06</td>\n",
              "      <td>12.0</td>\n",
              "      <td>89.3</td>\n",
              "      <td>15.0</td>\n",
              "      <td>2.0</td>\n",
              "      <td>NaN</td>\n",
              "      <td>NaN</td>\n",
              "      <td>NaN</td>\n",
              "      <td>NaN</td>\n",
              "      <td>NaN</td>\n",
              "      <td>NaN</td>\n",
              "    </tr>\n",
              "    <tr>\n",
              "      <th>3</th>\n",
              "      <td>109266.0</td>\n",
              "      <td>2.0</td>\n",
              "      <td>29.0</td>\n",
              "      <td>6.0</td>\n",
              "      <td>2.0</td>\n",
              "      <td>5.0</td>\n",
              "      <td>5.00</td>\n",
              "      <td>97.1</td>\n",
              "      <td>160.2</td>\n",
              "      <td>37.8</td>\n",
              "      <td>2.0</td>\n",
              "      <td>2.0</td>\n",
              "      <td>1.0</td>\n",
              "      <td>5.397605e-79</td>\n",
              "      <td>5.397605e-79</td>\n",
              "      <td>7.5</td>\n",
              "      <td>8.0</td>\n",
              "    </tr>\n",
              "    <tr>\n",
              "      <th>7</th>\n",
              "      <td>109270.0</td>\n",
              "      <td>2.0</td>\n",
              "      <td>11.0</td>\n",
              "      <td>4.0</td>\n",
              "      <td>1.0</td>\n",
              "      <td>NaN</td>\n",
              "      <td>1.88</td>\n",
              "      <td>75.3</td>\n",
              "      <td>156.0</td>\n",
              "      <td>30.9</td>\n",
              "      <td>2.0</td>\n",
              "      <td>NaN</td>\n",
              "      <td>NaN</td>\n",
              "      <td>NaN</td>\n",
              "      <td>NaN</td>\n",
              "      <td>NaN</td>\n",
              "      <td>NaN</td>\n",
              "    </tr>\n",
              "    <tr>\n",
              "      <th>8</th>\n",
              "      <td>109271.0</td>\n",
              "      <td>1.0</td>\n",
              "      <td>49.0</td>\n",
              "      <td>3.0</td>\n",
              "      <td>1.0</td>\n",
              "      <td>2.0</td>\n",
              "      <td>NaN</td>\n",
              "      <td>98.8</td>\n",
              "      <td>182.3</td>\n",
              "      <td>29.7</td>\n",
              "      <td>2.0</td>\n",
              "      <td>1.0</td>\n",
              "      <td>2.0</td>\n",
              "      <td>1.000000e+00</td>\n",
              "      <td>5.397605e-79</td>\n",
              "      <td>10.0</td>\n",
              "      <td>13.0</td>\n",
              "    </tr>\n",
              "    <tr>\n",
              "      <th>...</th>\n",
              "      <td>...</td>\n",
              "      <td>...</td>\n",
              "      <td>...</td>\n",
              "      <td>...</td>\n",
              "      <td>...</td>\n",
              "      <td>...</td>\n",
              "      <td>...</td>\n",
              "      <td>...</td>\n",
              "      <td>...</td>\n",
              "      <td>...</td>\n",
              "      <td>...</td>\n",
              "      <td>...</td>\n",
              "      <td>...</td>\n",
              "      <td>...</td>\n",
              "      <td>...</td>\n",
              "      <td>...</td>\n",
              "      <td>...</td>\n",
              "    </tr>\n",
              "    <tr>\n",
              "      <th>15555</th>\n",
              "      <td>124818.0</td>\n",
              "      <td>1.0</td>\n",
              "      <td>40.0</td>\n",
              "      <td>4.0</td>\n",
              "      <td>1.0</td>\n",
              "      <td>5.0</td>\n",
              "      <td>3.82</td>\n",
              "      <td>108.8</td>\n",
              "      <td>168.7</td>\n",
              "      <td>38.2</td>\n",
              "      <td>2.0</td>\n",
              "      <td>2.0</td>\n",
              "      <td>2.0</td>\n",
              "      <td>5.397605e-79</td>\n",
              "      <td>5.397605e-79</td>\n",
              "      <td>6.0</td>\n",
              "      <td>7.0</td>\n",
              "    </tr>\n",
              "    <tr>\n",
              "      <th>15556</th>\n",
              "      <td>124819.0</td>\n",
              "      <td>1.0</td>\n",
              "      <td>2.0</td>\n",
              "      <td>4.0</td>\n",
              "      <td>1.0</td>\n",
              "      <td>NaN</td>\n",
              "      <td>0.07</td>\n",
              "      <td>15.4</td>\n",
              "      <td>93.7</td>\n",
              "      <td>17.5</td>\n",
              "      <td>2.0</td>\n",
              "      <td>NaN</td>\n",
              "      <td>NaN</td>\n",
              "      <td>NaN</td>\n",
              "      <td>NaN</td>\n",
              "      <td>NaN</td>\n",
              "      <td>NaN</td>\n",
              "    </tr>\n",
              "    <tr>\n",
              "      <th>15557</th>\n",
              "      <td>124820.0</td>\n",
              "      <td>2.0</td>\n",
              "      <td>7.0</td>\n",
              "      <td>3.0</td>\n",
              "      <td>1.0</td>\n",
              "      <td>NaN</td>\n",
              "      <td>1.22</td>\n",
              "      <td>22.9</td>\n",
              "      <td>123.3</td>\n",
              "      <td>15.1</td>\n",
              "      <td>2.0</td>\n",
              "      <td>NaN</td>\n",
              "      <td>NaN</td>\n",
              "      <td>NaN</td>\n",
              "      <td>NaN</td>\n",
              "      <td>NaN</td>\n",
              "      <td>NaN</td>\n",
              "    </tr>\n",
              "    <tr>\n",
              "      <th>15558</th>\n",
              "      <td>124821.0</td>\n",
              "      <td>1.0</td>\n",
              "      <td>63.0</td>\n",
              "      <td>4.0</td>\n",
              "      <td>1.0</td>\n",
              "      <td>2.0</td>\n",
              "      <td>3.71</td>\n",
              "      <td>79.5</td>\n",
              "      <td>176.4</td>\n",
              "      <td>25.5</td>\n",
              "      <td>3.0</td>\n",
              "      <td>2.0</td>\n",
              "      <td>2.0</td>\n",
              "      <td>5.397605e-79</td>\n",
              "      <td>5.397605e-79</td>\n",
              "      <td>8.0</td>\n",
              "      <td>9.0</td>\n",
              "    </tr>\n",
              "    <tr>\n",
              "      <th>15559</th>\n",
              "      <td>124822.0</td>\n",
              "      <td>1.0</td>\n",
              "      <td>74.0</td>\n",
              "      <td>2.0</td>\n",
              "      <td>2.0</td>\n",
              "      <td>3.0</td>\n",
              "      <td>NaN</td>\n",
              "      <td>59.7</td>\n",
              "      <td>167.5</td>\n",
              "      <td>21.3</td>\n",
              "      <td>2.0</td>\n",
              "      <td>1.0</td>\n",
              "      <td>1.0</td>\n",
              "      <td>5.397605e-79</td>\n",
              "      <td>2.000000e+00</td>\n",
              "      <td>5.5</td>\n",
              "      <td>8.0</td>\n",
              "    </tr>\n",
              "  </tbody>\n",
              "</table>\n",
              "<p>13137 rows × 17 columns</p>\n",
              "</div>"
            ],
            "text/plain": [
              "           SEQN  Gender  ...  SleepHoursWeekdays  SleepHoursWeekend\n",
              "1      109264.0     2.0  ...                 NaN                NaN\n",
              "2      109265.0     1.0  ...                 NaN                NaN\n",
              "3      109266.0     2.0  ...                 7.5                8.0\n",
              "7      109270.0     2.0  ...                 NaN                NaN\n",
              "8      109271.0     1.0  ...                10.0               13.0\n",
              "...         ...     ...  ...                 ...                ...\n",
              "15555  124818.0     1.0  ...                 6.0                7.0\n",
              "15556  124819.0     1.0  ...                 NaN                NaN\n",
              "15557  124820.0     2.0  ...                 NaN                NaN\n",
              "15558  124821.0     1.0  ...                 8.0                9.0\n",
              "15559  124822.0     1.0  ...                 5.5                8.0\n",
              "\n",
              "[13137 rows x 17 columns]"
            ]
          },
          "metadata": {},
          "execution_count": 23
        }
      ]
    },
    {
      "cell_type": "code",
      "metadata": {
        "colab": {
          "base_uri": "https://localhost:8080/"
        },
        "id": "bXcglMwFipsS",
        "outputId": "ed20b71b-ecf1-430d-c05b-3213a204dec2"
      },
      "source": [
        "df_clean.shape"
      ],
      "execution_count": 24,
      "outputs": [
        {
          "output_type": "execute_result",
          "data": {
            "text/plain": [
              "(13137, 17)"
            ]
          },
          "metadata": {},
          "execution_count": 24
        }
      ]
    },
    {
      "cell_type": "code",
      "metadata": {
        "colab": {
          "base_uri": "https://localhost:8080/",
          "height": 329
        },
        "id": "uK2xvkD-tsTn",
        "outputId": "cf1ddf01-1dc8-4331-893b-8008fbc19c1c"
      },
      "source": [
        "# checking data types\n",
        "display(df_clean.dtypes)"
      ],
      "execution_count": 25,
      "outputs": [
        {
          "output_type": "display_data",
          "data": {
            "text/plain": [
              "SEQN                              float64\n",
              "Gender                            float64\n",
              "Age                               float64\n",
              "Race                              float64\n",
              "CountryofBirth                    float64\n",
              "Education                         float64\n",
              "FamIncomeRatio                    float64\n",
              "Weight                            float64\n",
              "Height                            float64\n",
              "BMI                               float64\n",
              "Diabetes                          float64\n",
              "ModerateWorkActivity              float64\n",
              "ModerateRecreationalActivities    float64\n",
              "Depressed                         float64\n",
              "PoorAppetiteOvereating            float64\n",
              "SleepHoursWeekdays                float64\n",
              "SleepHoursWeekend                 float64\n",
              "dtype: object"
            ]
          },
          "metadata": {}
        }
      ]
    },
    {
      "cell_type": "code",
      "metadata": {
        "id": "6dIHenOotkft"
      },
      "source": [
        "# Converting 'SEQN', 'Gender', 'Race', 'CountryifBirth', 'Diabetes' from float to int\n",
        "df_clean = df_clean.astype({\n",
        "    'SEQN':'int', 'Gender':'int', 'Age':'int', 'Race':'int', 'CountryofBirth':'int', \n",
        "    'Diabetes':'int'\n",
        "    })"
      ],
      "execution_count": 26,
      "outputs": []
    },
    {
      "cell_type": "markdown",
      "metadata": {
        "id": "XgaffqvLHjb3"
      },
      "source": [
        "## Change values from numbers to specific categories"
      ]
    },
    {
      "cell_type": "code",
      "metadata": {
        "colab": {
          "base_uri": "https://localhost:8080/",
          "height": 226
        },
        "id": "wZbmK1n2HYXT",
        "outputId": "1f720905-3d6d-453e-baa1-4ee88deaab17"
      },
      "source": [
        "df_clean.head()"
      ],
      "execution_count": 27,
      "outputs": [
        {
          "output_type": "execute_result",
          "data": {
            "text/html": [
              "<div>\n",
              "<style scoped>\n",
              "    .dataframe tbody tr th:only-of-type {\n",
              "        vertical-align: middle;\n",
              "    }\n",
              "\n",
              "    .dataframe tbody tr th {\n",
              "        vertical-align: top;\n",
              "    }\n",
              "\n",
              "    .dataframe thead th {\n",
              "        text-align: right;\n",
              "    }\n",
              "</style>\n",
              "<table border=\"1\" class=\"dataframe\">\n",
              "  <thead>\n",
              "    <tr style=\"text-align: right;\">\n",
              "      <th></th>\n",
              "      <th>SEQN</th>\n",
              "      <th>Gender</th>\n",
              "      <th>Age</th>\n",
              "      <th>Race</th>\n",
              "      <th>CountryofBirth</th>\n",
              "      <th>Education</th>\n",
              "      <th>FamIncomeRatio</th>\n",
              "      <th>Weight</th>\n",
              "      <th>Height</th>\n",
              "      <th>BMI</th>\n",
              "      <th>Diabetes</th>\n",
              "      <th>ModerateWorkActivity</th>\n",
              "      <th>ModerateRecreationalActivities</th>\n",
              "      <th>Depressed</th>\n",
              "      <th>PoorAppetiteOvereating</th>\n",
              "      <th>SleepHoursWeekdays</th>\n",
              "      <th>SleepHoursWeekend</th>\n",
              "    </tr>\n",
              "  </thead>\n",
              "  <tbody>\n",
              "    <tr>\n",
              "      <th>1</th>\n",
              "      <td>109264</td>\n",
              "      <td>2</td>\n",
              "      <td>13</td>\n",
              "      <td>1</td>\n",
              "      <td>1</td>\n",
              "      <td>NaN</td>\n",
              "      <td>0.83</td>\n",
              "      <td>42.2</td>\n",
              "      <td>154.7</td>\n",
              "      <td>17.6</td>\n",
              "      <td>2</td>\n",
              "      <td>NaN</td>\n",
              "      <td>NaN</td>\n",
              "      <td>NaN</td>\n",
              "      <td>NaN</td>\n",
              "      <td>NaN</td>\n",
              "      <td>NaN</td>\n",
              "    </tr>\n",
              "    <tr>\n",
              "      <th>2</th>\n",
              "      <td>109265</td>\n",
              "      <td>1</td>\n",
              "      <td>2</td>\n",
              "      <td>3</td>\n",
              "      <td>1</td>\n",
              "      <td>NaN</td>\n",
              "      <td>3.06</td>\n",
              "      <td>12.0</td>\n",
              "      <td>89.3</td>\n",
              "      <td>15.0</td>\n",
              "      <td>2</td>\n",
              "      <td>NaN</td>\n",
              "      <td>NaN</td>\n",
              "      <td>NaN</td>\n",
              "      <td>NaN</td>\n",
              "      <td>NaN</td>\n",
              "      <td>NaN</td>\n",
              "    </tr>\n",
              "    <tr>\n",
              "      <th>3</th>\n",
              "      <td>109266</td>\n",
              "      <td>2</td>\n",
              "      <td>29</td>\n",
              "      <td>6</td>\n",
              "      <td>2</td>\n",
              "      <td>5.0</td>\n",
              "      <td>5.00</td>\n",
              "      <td>97.1</td>\n",
              "      <td>160.2</td>\n",
              "      <td>37.8</td>\n",
              "      <td>2</td>\n",
              "      <td>2.0</td>\n",
              "      <td>1.0</td>\n",
              "      <td>5.397605e-79</td>\n",
              "      <td>5.397605e-79</td>\n",
              "      <td>7.5</td>\n",
              "      <td>8.0</td>\n",
              "    </tr>\n",
              "    <tr>\n",
              "      <th>7</th>\n",
              "      <td>109270</td>\n",
              "      <td>2</td>\n",
              "      <td>11</td>\n",
              "      <td>4</td>\n",
              "      <td>1</td>\n",
              "      <td>NaN</td>\n",
              "      <td>1.88</td>\n",
              "      <td>75.3</td>\n",
              "      <td>156.0</td>\n",
              "      <td>30.9</td>\n",
              "      <td>2</td>\n",
              "      <td>NaN</td>\n",
              "      <td>NaN</td>\n",
              "      <td>NaN</td>\n",
              "      <td>NaN</td>\n",
              "      <td>NaN</td>\n",
              "      <td>NaN</td>\n",
              "    </tr>\n",
              "    <tr>\n",
              "      <th>8</th>\n",
              "      <td>109271</td>\n",
              "      <td>1</td>\n",
              "      <td>49</td>\n",
              "      <td>3</td>\n",
              "      <td>1</td>\n",
              "      <td>2.0</td>\n",
              "      <td>NaN</td>\n",
              "      <td>98.8</td>\n",
              "      <td>182.3</td>\n",
              "      <td>29.7</td>\n",
              "      <td>2</td>\n",
              "      <td>1.0</td>\n",
              "      <td>2.0</td>\n",
              "      <td>1.000000e+00</td>\n",
              "      <td>5.397605e-79</td>\n",
              "      <td>10.0</td>\n",
              "      <td>13.0</td>\n",
              "    </tr>\n",
              "  </tbody>\n",
              "</table>\n",
              "</div>"
            ],
            "text/plain": [
              "     SEQN  Gender  ...  SleepHoursWeekdays  SleepHoursWeekend\n",
              "1  109264       2  ...                 NaN                NaN\n",
              "2  109265       1  ...                 NaN                NaN\n",
              "3  109266       2  ...                 7.5                8.0\n",
              "7  109270       2  ...                 NaN                NaN\n",
              "8  109271       1  ...                10.0               13.0\n",
              "\n",
              "[5 rows x 17 columns]"
            ]
          },
          "metadata": {},
          "execution_count": 27
        }
      ]
    },
    {
      "cell_type": "markdown",
      "metadata": {
        "id": "KChpSRu8ieft"
      },
      "source": [
        "## Visualization"
      ]
    },
    {
      "cell_type": "markdown",
      "metadata": {
        "id": "S7zRasHjVmQH"
      },
      "source": [
        "#### Histogram"
      ]
    },
    {
      "cell_type": "code",
      "metadata": {
        "id": "k-x713BSCVZr",
        "colab": {
          "base_uri": "https://localhost:8080/",
          "height": 894
        },
        "outputId": "78e89ba8-91f7-45ef-d338-57077eab8fa4"
      },
      "source": [
        "# Histogram shows the data distribution\n",
        "p = df_clean.hist(figsize=(20,20),color='b')"
      ],
      "execution_count": 28,
      "outputs": [
        {
          "output_type": "display_data",
          "data": {
            "image/png": "[encoded data removed]",
            "text/plain": [
              "<Figure size 1440x1440 with 20 Axes>"
            ]
          },
          "metadata": {
            "needs_background": "light"
          }
        }
      ]
    },
    {
      "cell_type": "markdown",
      "metadata": {
        "id": "65hBdFr4dTaz"
      },
      "source": [
        "#### Correlation of the dataset"
      ]
    },
    {
      "cell_type": "code",
      "metadata": {
        "id": "nei847EGVV-A"
      },
      "source": [
        "# Extract the columns with numerical data values\n",
        "df_numerical = df_clean[[\"BMI\", \"Age\",\"FamIncomeRatio\",\"Weight\",\"Height\",\"SleepHoursWeekdays\",\"SleepHoursWeekend\"]]"
      ],
      "execution_count": 29,
      "outputs": []
    },
    {
      "cell_type": "code",
      "metadata": {
        "colab": {
          "base_uri": "https://localhost:8080/",
          "height": 289
        },
        "id": "oYoX8TzVq6cW",
        "outputId": "f017bdc8-48d3-429b-8cdc-968efe044bdd"
      },
      "source": [
        "# Print the correlation between each numerical columns\n",
        "df_numerical.corr()"
      ],
      "execution_count": 30,
      "outputs": [
        {
          "output_type": "execute_result",
          "data": {
            "text/html": [
              "<div>\n",
              "<style scoped>\n",
              "    .dataframe tbody tr th:only-of-type {\n",
              "        vertical-align: middle;\n",
              "    }\n",
              "\n",
              "    .dataframe tbody tr th {\n",
              "        vertical-align: top;\n",
              "    }\n",
              "\n",
              "    .dataframe thead th {\n",
              "        text-align: right;\n",
              "    }\n",
              "</style>\n",
              "<table border=\"1\" class=\"dataframe\">\n",
              "  <thead>\n",
              "    <tr style=\"text-align: right;\">\n",
              "      <th></th>\n",
              "      <th>BMI</th>\n",
              "      <th>Age</th>\n",
              "      <th>FamIncomeRatio</th>\n",
              "      <th>Weight</th>\n",
              "      <th>Height</th>\n",
              "      <th>SleepHoursWeekdays</th>\n",
              "      <th>SleepHoursWeekend</th>\n",
              "    </tr>\n",
              "  </thead>\n",
              "  <tbody>\n",
              "    <tr>\n",
              "      <th>BMI</th>\n",
              "      <td>1.000000</td>\n",
              "      <td>0.463421</td>\n",
              "      <td>0.025979</td>\n",
              "      <td>0.918685</td>\n",
              "      <td>0.497334</td>\n",
              "      <td>-0.066224</td>\n",
              "      <td>-0.055826</td>\n",
              "    </tr>\n",
              "    <tr>\n",
              "      <th>Age</th>\n",
              "      <td>0.463421</td>\n",
              "      <td>1.000000</td>\n",
              "      <td>0.145589</td>\n",
              "      <td>0.532463</td>\n",
              "      <td>0.538608</td>\n",
              "      <td>-0.004612</td>\n",
              "      <td>-0.170679</td>\n",
              "    </tr>\n",
              "    <tr>\n",
              "      <th>FamIncomeRatio</th>\n",
              "      <td>0.025979</td>\n",
              "      <td>0.145589</td>\n",
              "      <td>1.000000</td>\n",
              "      <td>0.086580</td>\n",
              "      <td>0.137814</td>\n",
              "      <td>-0.062773</td>\n",
              "      <td>-0.044770</td>\n",
              "    </tr>\n",
              "    <tr>\n",
              "      <th>Weight</th>\n",
              "      <td>0.918685</td>\n",
              "      <td>0.532463</td>\n",
              "      <td>0.086580</td>\n",
              "      <td>1.000000</td>\n",
              "      <td>0.769794</td>\n",
              "      <td>-0.084741</td>\n",
              "      <td>-0.082710</td>\n",
              "    </tr>\n",
              "    <tr>\n",
              "      <th>Height</th>\n",
              "      <td>0.497334</td>\n",
              "      <td>0.538608</td>\n",
              "      <td>0.137814</td>\n",
              "      <td>0.769794</td>\n",
              "      <td>1.000000</td>\n",
              "      <td>-0.058676</td>\n",
              "      <td>-0.074864</td>\n",
              "    </tr>\n",
              "    <tr>\n",
              "      <th>SleepHoursWeekdays</th>\n",
              "      <td>-0.066224</td>\n",
              "      <td>-0.004612</td>\n",
              "      <td>-0.062773</td>\n",
              "      <td>-0.084741</td>\n",
              "      <td>-0.058676</td>\n",
              "      <td>1.000000</td>\n",
              "      <td>0.540959</td>\n",
              "    </tr>\n",
              "    <tr>\n",
              "      <th>SleepHoursWeekend</th>\n",
              "      <td>-0.055826</td>\n",
              "      <td>-0.170679</td>\n",
              "      <td>-0.044770</td>\n",
              "      <td>-0.082710</td>\n",
              "      <td>-0.074864</td>\n",
              "      <td>0.540959</td>\n",
              "      <td>1.000000</td>\n",
              "    </tr>\n",
              "  </tbody>\n",
              "</table>\n",
              "</div>"
            ],
            "text/plain": [
              "                         BMI       Age  ...  SleepHoursWeekdays  SleepHoursWeekend\n",
              "BMI                 1.000000  0.463421  ...           -0.066224          -0.055826\n",
              "Age                 0.463421  1.000000  ...           -0.004612          -0.170679\n",
              "FamIncomeRatio      0.025979  0.145589  ...           -0.062773          -0.044770\n",
              "Weight              0.918685  0.532463  ...           -0.084741          -0.082710\n",
              "Height              0.497334  0.538608  ...           -0.058676          -0.074864\n",
              "SleepHoursWeekdays -0.066224 -0.004612  ...            1.000000           0.540959\n",
              "SleepHoursWeekend  -0.055826 -0.170679  ...            0.540959           1.000000\n",
              "\n",
              "[7 rows x 7 columns]"
            ]
          },
          "metadata": {},
          "execution_count": 30
        }
      ]
    },
    {
      "cell_type": "code",
      "metadata": {
        "id": "krgq1SgoCVgy",
        "colab": {
          "base_uri": "https://localhost:8080/"
        },
        "outputId": "abf90d39-1e27-49c7-f199-388693400e81"
      },
      "source": [
        "# Check correlations between numerical variables with BMI\n",
        "df_numerical.corr()['BMI'].sort_values()"
      ],
      "execution_count": 31,
      "outputs": [
        {
          "output_type": "execute_result",
          "data": {
            "text/plain": [
              "SleepHoursWeekdays   -0.066224\n",
              "SleepHoursWeekend    -0.055826\n",
              "FamIncomeRatio        0.025979\n",
              "Age                   0.463421\n",
              "Height                0.497334\n",
              "Weight                0.918685\n",
              "BMI                   1.000000\n",
              "Name: BMI, dtype: float64"
            ]
          },
          "metadata": {},
          "execution_count": 31
        }
      ]
    },
    {
      "cell_type": "markdown",
      "metadata": {
        "id": "JkTAFp9TVWLC"
      },
      "source": [
        "#### Heat Map for Numerical Data"
      ]
    },
    {
      "cell_type": "code",
      "metadata": {
        "id": "_51D05LFTWQP",
        "colab": {
          "base_uri": "https://localhost:8080/",
          "height": 599
        },
        "outputId": "604c1078-e70b-4261-909d-3883d514159e"
      },
      "source": [
        "plt.figure(figsize=(10,8))\n",
        "p = sns.heatmap(df_numerical.corr(), annot=True, cmap='RdYlGn')\n",
        "plt.show()"
      ],
      "execution_count": 32,
      "outputs": [
        {
          "output_type": "display_data",
          "data": {
            "image/png": "[encoded data removed]",
            "text/plain": [
              "<Figure size 720x576 with 2 Axes>"
            ]
          },
          "metadata": {
            "needs_background": "light"
          }
        }
      ]
    },
    {
      "cell_type": "markdown",
      "metadata": {
        "id": "Nro1Azo7EV_3"
      },
      "source": [
        "## Age and age groups"
      ]
    },
    {
      "cell_type": "code",
      "metadata": {
        "id": "AT2CsikeTWYp",
        "colab": {
          "base_uri": "https://localhost:8080/",
          "height": 385
        },
        "outputId": "c53c9dd2-8064-4f4c-f6e5-1b78429a4f41"
      },
      "source": [
        "# Distribution of Age\n",
        "sns.displot(df_clean['Age'],color='b')\n",
        "plt.title(\"Distribution of Age\")\n",
        "plt.show()"
      ],
      "execution_count": 33,
      "outputs": [
        {
          "output_type": "display_data",
          "data": {
            "image/png": "[encoded data removed]",
            "text/plain": [
              "<Figure size 360x360 with 1 Axes>"
            ]
          },
          "metadata": {
            "needs_background": "light"
          }
        }
      ]
    },
    {
      "cell_type": "markdown",
      "metadata": {
        "id": "6ccomite9U8s"
      },
      "source": [
        "#### Creating a new column for age groups"
      ]
    },
    {
      "cell_type": "code",
      "metadata": {
        "colab": {
          "base_uri": "https://localhost:8080/",
          "height": 424
        },
        "id": "H45eukokbnGl",
        "outputId": "c4f86c6b-18be-4755-b8d9-e0249fad077d"
      },
      "source": [
        "ages = pd.DataFrame(df_clean[['SEQN', 'Age']])\n",
        "\n",
        "bins = [0, 3, 12, 19, 60, 120]\n",
        "labels = ['0-3', '3-12', '13-19', '20-60', '60+']\n",
        "ages['AgeGroup'] = pd.cut(ages.Age, bins, labels = labels, include_lowest= True)\n",
        "df_age_groups = ages\n",
        "df_age_groups"
      ],
      "execution_count": 34,
      "outputs": [
        {
          "output_type": "execute_result",
          "data": {
            "text/html": [
              "<div>\n",
              "<style scoped>\n",
              "    .dataframe tbody tr th:only-of-type {\n",
              "        vertical-align: middle;\n",
              "    }\n",
              "\n",
              "    .dataframe tbody tr th {\n",
              "        vertical-align: top;\n",
              "    }\n",
              "\n",
              "    .dataframe thead th {\n",
              "        text-align: right;\n",
              "    }\n",
              "</style>\n",
              "<table border=\"1\" class=\"dataframe\">\n",
              "  <thead>\n",
              "    <tr style=\"text-align: right;\">\n",
              "      <th></th>\n",
              "      <th>SEQN</th>\n",
              "      <th>Age</th>\n",
              "      <th>AgeGroup</th>\n",
              "    </tr>\n",
              "  </thead>\n",
              "  <tbody>\n",
              "    <tr>\n",
              "      <th>1</th>\n",
              "      <td>109264</td>\n",
              "      <td>13</td>\n",
              "      <td>13-19</td>\n",
              "    </tr>\n",
              "    <tr>\n",
              "      <th>2</th>\n",
              "      <td>109265</td>\n",
              "      <td>2</td>\n",
              "      <td>0-3</td>\n",
              "    </tr>\n",
              "    <tr>\n",
              "      <th>3</th>\n",
              "      <td>109266</td>\n",
              "      <td>29</td>\n",
              "      <td>20-60</td>\n",
              "    </tr>\n",
              "    <tr>\n",
              "      <th>7</th>\n",
              "      <td>109270</td>\n",
              "      <td>11</td>\n",
              "      <td>3-12</td>\n",
              "    </tr>\n",
              "    <tr>\n",
              "      <th>8</th>\n",
              "      <td>109271</td>\n",
              "      <td>49</td>\n",
              "      <td>20-60</td>\n",
              "    </tr>\n",
              "    <tr>\n",
              "      <th>...</th>\n",
              "      <td>...</td>\n",
              "      <td>...</td>\n",
              "      <td>...</td>\n",
              "    </tr>\n",
              "    <tr>\n",
              "      <th>15555</th>\n",
              "      <td>124818</td>\n",
              "      <td>40</td>\n",
              "      <td>20-60</td>\n",
              "    </tr>\n",
              "    <tr>\n",
              "      <th>15556</th>\n",
              "      <td>124819</td>\n",
              "      <td>2</td>\n",
              "      <td>0-3</td>\n",
              "    </tr>\n",
              "    <tr>\n",
              "      <th>15557</th>\n",
              "      <td>124820</td>\n",
              "      <td>7</td>\n",
              "      <td>3-12</td>\n",
              "    </tr>\n",
              "    <tr>\n",
              "      <th>15558</th>\n",
              "      <td>124821</td>\n",
              "      <td>63</td>\n",
              "      <td>60+</td>\n",
              "    </tr>\n",
              "    <tr>\n",
              "      <th>15559</th>\n",
              "      <td>124822</td>\n",
              "      <td>74</td>\n",
              "      <td>60+</td>\n",
              "    </tr>\n",
              "  </tbody>\n",
              "</table>\n",
              "<p>13137 rows × 3 columns</p>\n",
              "</div>"
            ],
            "text/plain": [
              "         SEQN  Age AgeGroup\n",
              "1      109264   13    13-19\n",
              "2      109265    2      0-3\n",
              "3      109266   29    20-60\n",
              "7      109270   11     3-12\n",
              "8      109271   49    20-60\n",
              "...       ...  ...      ...\n",
              "15555  124818   40    20-60\n",
              "15556  124819    2      0-3\n",
              "15557  124820    7     3-12\n",
              "15558  124821   63      60+\n",
              "15559  124822   74      60+\n",
              "\n",
              "[13137 rows x 3 columns]"
            ]
          },
          "metadata": {},
          "execution_count": 34
        }
      ]
    },
    {
      "cell_type": "markdown",
      "metadata": {
        "id": "uKKqzWxdMJGc"
      },
      "source": [
        "#### **Based on the EDA and visualization, we are going to mainly focus on the age group feom 20-60.**"
      ]
    },
    {
      "cell_type": "code",
      "metadata": {
        "id": "Z-0NVyB-9ble"
      },
      "source": [
        "df_with_age_groups = pd.merge(df_clean, df_age_groups, how='outer')"
      ],
      "execution_count": 35,
      "outputs": []
    },
    {
      "cell_type": "code",
      "metadata": {
        "colab": {
          "base_uri": "https://localhost:8080/",
          "height": 226
        },
        "id": "__kbptIz9mIm",
        "outputId": "dce28273-cc00-45cb-b9b4-14c8583f3986"
      },
      "source": [
        "df_with_age_groups.head()"
      ],
      "execution_count": 36,
      "outputs": [
        {
          "output_type": "execute_result",
          "data": {
            "text/html": [
              "<div>\n",
              "<style scoped>\n",
              "    .dataframe tbody tr th:only-of-type {\n",
              "        vertical-align: middle;\n",
              "    }\n",
              "\n",
              "    .dataframe tbody tr th {\n",
              "        vertical-align: top;\n",
              "    }\n",
              "\n",
              "    .dataframe thead th {\n",
              "        text-align: right;\n",
              "    }\n",
              "</style>\n",
              "<table border=\"1\" class=\"dataframe\">\n",
              "  <thead>\n",
              "    <tr style=\"text-align: right;\">\n",
              "      <th></th>\n",
              "      <th>SEQN</th>\n",
              "      <th>Gender</th>\n",
              "      <th>Age</th>\n",
              "      <th>Race</th>\n",
              "      <th>CountryofBirth</th>\n",
              "      <th>Education</th>\n",
              "      <th>FamIncomeRatio</th>\n",
              "      <th>Weight</th>\n",
              "      <th>Height</th>\n",
              "      <th>BMI</th>\n",
              "      <th>Diabetes</th>\n",
              "      <th>ModerateWorkActivity</th>\n",
              "      <th>ModerateRecreationalActivities</th>\n",
              "      <th>Depressed</th>\n",
              "      <th>PoorAppetiteOvereating</th>\n",
              "      <th>SleepHoursWeekdays</th>\n",
              "      <th>SleepHoursWeekend</th>\n",
              "      <th>AgeGroup</th>\n",
              "    </tr>\n",
              "  </thead>\n",
              "  <tbody>\n",
              "    <tr>\n",
              "      <th>0</th>\n",
              "      <td>109264</td>\n",
              "      <td>2</td>\n",
              "      <td>13</td>\n",
              "      <td>1</td>\n",
              "      <td>1</td>\n",
              "      <td>NaN</td>\n",
              "      <td>0.83</td>\n",
              "      <td>42.2</td>\n",
              "      <td>154.7</td>\n",
              "      <td>17.6</td>\n",
              "      <td>2</td>\n",
              "      <td>NaN</td>\n",
              "      <td>NaN</td>\n",
              "      <td>NaN</td>\n",
              "      <td>NaN</td>\n",
              "      <td>NaN</td>\n",
              "      <td>NaN</td>\n",
              "      <td>13-19</td>\n",
              "    </tr>\n",
              "    <tr>\n",
              "      <th>1</th>\n",
              "      <td>109265</td>\n",
              "      <td>1</td>\n",
              "      <td>2</td>\n",
              "      <td>3</td>\n",
              "      <td>1</td>\n",
              "      <td>NaN</td>\n",
              "      <td>3.06</td>\n",
              "      <td>12.0</td>\n",
              "      <td>89.3</td>\n",
              "      <td>15.0</td>\n",
              "      <td>2</td>\n",
              "      <td>NaN</td>\n",
              "      <td>NaN</td>\n",
              "      <td>NaN</td>\n",
              "      <td>NaN</td>\n",
              "      <td>NaN</td>\n",
              "      <td>NaN</td>\n",
              "      <td>0-3</td>\n",
              "    </tr>\n",
              "    <tr>\n",
              "      <th>2</th>\n",
              "      <td>109266</td>\n",
              "      <td>2</td>\n",
              "      <td>29</td>\n",
              "      <td>6</td>\n",
              "      <td>2</td>\n",
              "      <td>5.0</td>\n",
              "      <td>5.00</td>\n",
              "      <td>97.1</td>\n",
              "      <td>160.2</td>\n",
              "      <td>37.8</td>\n",
              "      <td>2</td>\n",
              "      <td>2.0</td>\n",
              "      <td>1.0</td>\n",
              "      <td>5.397605e-79</td>\n",
              "      <td>5.397605e-79</td>\n",
              "      <td>7.5</td>\n",
              "      <td>8.0</td>\n",
              "      <td>20-60</td>\n",
              "    </tr>\n",
              "    <tr>\n",
              "      <th>3</th>\n",
              "      <td>109270</td>\n",
              "      <td>2</td>\n",
              "      <td>11</td>\n",
              "      <td>4</td>\n",
              "      <td>1</td>\n",
              "      <td>NaN</td>\n",
              "      <td>1.88</td>\n",
              "      <td>75.3</td>\n",
              "      <td>156.0</td>\n",
              "      <td>30.9</td>\n",
              "      <td>2</td>\n",
              "      <td>NaN</td>\n",
              "      <td>NaN</td>\n",
              "      <td>NaN</td>\n",
              "      <td>NaN</td>\n",
              "      <td>NaN</td>\n",
              "      <td>NaN</td>\n",
              "      <td>3-12</td>\n",
              "    </tr>\n",
              "    <tr>\n",
              "      <th>4</th>\n",
              "      <td>109271</td>\n",
              "      <td>1</td>\n",
              "      <td>49</td>\n",
              "      <td>3</td>\n",
              "      <td>1</td>\n",
              "      <td>2.0</td>\n",
              "      <td>NaN</td>\n",
              "      <td>98.8</td>\n",
              "      <td>182.3</td>\n",
              "      <td>29.7</td>\n",
              "      <td>2</td>\n",
              "      <td>1.0</td>\n",
              "      <td>2.0</td>\n",
              "      <td>1.000000e+00</td>\n",
              "      <td>5.397605e-79</td>\n",
              "      <td>10.0</td>\n",
              "      <td>13.0</td>\n",
              "      <td>20-60</td>\n",
              "    </tr>\n",
              "  </tbody>\n",
              "</table>\n",
              "</div>"
            ],
            "text/plain": [
              "     SEQN  Gender  Age  ...  SleepHoursWeekdays  SleepHoursWeekend  AgeGroup\n",
              "0  109264       2   13  ...                 NaN                NaN     13-19\n",
              "1  109265       1    2  ...                 NaN                NaN       0-3\n",
              "2  109266       2   29  ...                 7.5                8.0     20-60\n",
              "3  109270       2   11  ...                 NaN                NaN      3-12\n",
              "4  109271       1   49  ...                10.0               13.0     20-60\n",
              "\n",
              "[5 rows x 18 columns]"
            ]
          },
          "metadata": {},
          "execution_count": 36
        }
      ]
    },
    {
      "cell_type": "markdown",
      "metadata": {
        "id": "V8OnR1sRC7u6"
      },
      "source": [
        "## Visualization of BMI\n",
        "#### According to CDC, \"for adults 20 years old and older, BMI is interpreted using standard weight status categories. These categories are the same for men and women of all body types and ages.\"\n",
        "---\n",
        "![Screen Shot 2021-10-04 at 9.26.54 PM.png](data:image/png;base64,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)\n"
      ]
    },
    {
      "cell_type": "code",
      "metadata": {
        "colab": {
          "base_uri": "https://localhost:8080/",
          "height": 302
        },
        "id": "PvRa3bpXCtoY",
        "outputId": "4fc8041f-b2bd-47f8-bab3-433ce643ec32"
      },
      "source": [
        "sns.distplot(df_with_age_groups[\"BMI\"])\n",
        "plt.title(\"BMI Distribution\")\n",
        "plt.show()"
      ],
      "execution_count": 37,
      "outputs": [
        {
          "output_type": "display_data",
          "data": {
            "image/png": "[encoded data removed]",
            "text/plain": [
              "<Figure size 432x288 with 1 Axes>"
            ]
          },
          "metadata": {
            "needs_background": "light"
          }
        }
      ]
    },
    {
      "cell_type": "code",
      "metadata": {
        "colab": {
          "base_uri": "https://localhost:8080/",
          "height": 386
        },
        "id": "q1vbLiEEm89M",
        "outputId": "2b87cd70-97ca-467e-ae1f-d9c75549a75c"
      },
      "source": [
        "sns.displot(df_with_age_groups['AgeGroup'],color='g',height=5)\n",
        "plt.title(\"Count by Age Group\")\n",
        "plt.show()"
      ],
      "execution_count": 89,
      "outputs": [
        {
          "output_type": "display_data",
          "data": {
            "image/png": "[encoded data removed]",
            "text/plain": [
              "<Figure size 360x360 with 1 Axes>"
            ]
          },
          "metadata": {
            "needs_background": "light"
          }
        }
      ]
    },
    {
      "cell_type": "markdown",
      "metadata": {
        "id": "pJ-cEUDsEc8g"
      },
      "source": [
        "## BMI and Age Groups"
      ]
    },
    {
      "cell_type": "code",
      "metadata": {
        "colab": {
          "base_uri": "https://localhost:8080/",
          "height": 206
        },
        "id": "xV4LTOyZ-Vzi",
        "outputId": "bb852402-7815-4684-862a-eb86c1e49d29"
      },
      "source": [
        "# check BMI and age group\n",
        "df_BMI_AgeGroup = df_with_age_groups[[\"BMI\",\"AgeGroup\"]]\n",
        "df_BMI_AgeGroup.head()"
      ],
      "execution_count": 39,
      "outputs": [
        {
          "output_type": "execute_result",
          "data": {
            "text/html": [
              "<div>\n",
              "<style scoped>\n",
              "    .dataframe tbody tr th:only-of-type {\n",
              "        vertical-align: middle;\n",
              "    }\n",
              "\n",
              "    .dataframe tbody tr th {\n",
              "        vertical-align: top;\n",
              "    }\n",
              "\n",
              "    .dataframe thead th {\n",
              "        text-align: right;\n",
              "    }\n",
              "</style>\n",
              "<table border=\"1\" class=\"dataframe\">\n",
              "  <thead>\n",
              "    <tr style=\"text-align: right;\">\n",
              "      <th></th>\n",
              "      <th>BMI</th>\n",
              "      <th>AgeGroup</th>\n",
              "    </tr>\n",
              "  </thead>\n",
              "  <tbody>\n",
              "    <tr>\n",
              "      <th>0</th>\n",
              "      <td>17.6</td>\n",
              "      <td>13-19</td>\n",
              "    </tr>\n",
              "    <tr>\n",
              "      <th>1</th>\n",
              "      <td>15.0</td>\n",
              "      <td>0-3</td>\n",
              "    </tr>\n",
              "    <tr>\n",
              "      <th>2</th>\n",
              "      <td>37.8</td>\n",
              "      <td>20-60</td>\n",
              "    </tr>\n",
              "    <tr>\n",
              "      <th>3</th>\n",
              "      <td>30.9</td>\n",
              "      <td>3-12</td>\n",
              "    </tr>\n",
              "    <tr>\n",
              "      <th>4</th>\n",
              "      <td>29.7</td>\n",
              "      <td>20-60</td>\n",
              "    </tr>\n",
              "  </tbody>\n",
              "</table>\n",
              "</div>"
            ],
            "text/plain": [
              "    BMI AgeGroup\n",
              "0  17.6    13-19\n",
              "1  15.0      0-3\n",
              "2  37.8    20-60\n",
              "3  30.9     3-12\n",
              "4  29.7    20-60"
            ]
          },
          "metadata": {},
          "execution_count": 39
        }
      ]
    },
    {
      "cell_type": "code",
      "metadata": {
        "colab": {
          "base_uri": "https://localhost:8080/",
          "height": 458
        },
        "id": "A2cYC4Ci_QYf",
        "outputId": "cf7c087b-810c-4ec7-888f-ba56471b4b5f"
      },
      "source": [
        "sns.catplot(x=\"AgeGroup\", y='BMI', kind='box', data=df_with_age_groups, height=6)\n",
        "plt.title('Scatterplot of BMI & Age Groups')\n",
        "plt.show()\n",
        "# box plot"
      ],
      "execution_count": 88,
      "outputs": [
        {
          "output_type": "display_data",
          "data": {
            "image/png": "[encoded data removed]",
            "text/plain": [
              "<Figure size 432x432 with 1 Axes>"
            ]
          },
          "metadata": {
            "needs_background": "light"
          }
        }
      ]
    },
    {
      "cell_type": "markdown",
      "metadata": {
        "id": "BQTkrdNxVPoG"
      },
      "source": [
        "#### - Since the visualizations showed that the age group of 20-60 contains the majority of the data, and education, income ratio, mental health, and other factors showed more resonable relation for adults. We decided focus on respondent from 20-60. And expend the project to childhood obesity/overweight and senior(60+) obesity/overweight later on."
      ]
    },
    {
      "cell_type": "markdown",
      "metadata": {
        "id": "kTILC8B0TYp7"
      },
      "source": [
        "## Reorganizing the age groups\n",
        "Conduct all the analysis again"
      ]
    },
    {
      "cell_type": "code",
      "metadata": {
        "colab": {
          "base_uri": "https://localhost:8080/",
          "height": 424
        },
        "id": "K39vQejxV-kg",
        "outputId": "861b7361-3f63-451d-e043-00f515a2cc4b"
      },
      "source": [
        "# 20-29, 30-39, 40-49, 50-60\n",
        "ages = pd.DataFrame(df_with_age_groups[['SEQN', 'Age']])\n",
        "\n",
        "bins = [20, 30, 40, 50, 60]\n",
        "labels = ['20-29', '30-39', '40-49', '50-60']\n",
        "ages['AgeGroup1'] = pd.cut(ages.Age, bins, labels = labels, include_lowest= True)\n",
        "df_20_60 = ages\n",
        "\n",
        "# Drop NaN values, so we only left with people from 20-60.\n",
        "df_20_60.dropna()"
      ],
      "execution_count": 74,
      "outputs": [
        {
          "output_type": "execute_result",
          "data": {
            "text/html": [
              "<div>\n",
              "<style scoped>\n",
              "    .dataframe tbody tr th:only-of-type {\n",
              "        vertical-align: middle;\n",
              "    }\n",
              "\n",
              "    .dataframe tbody tr th {\n",
              "        vertical-align: top;\n",
              "    }\n",
              "\n",
              "    .dataframe thead th {\n",
              "        text-align: right;\n",
              "    }\n",
              "</style>\n",
              "<table border=\"1\" class=\"dataframe\">\n",
              "  <thead>\n",
              "    <tr style=\"text-align: right;\">\n",
              "      <th></th>\n",
              "      <th>SEQN</th>\n",
              "      <th>Age</th>\n",
              "      <th>AgeGroup1</th>\n",
              "    </tr>\n",
              "  </thead>\n",
              "  <tbody>\n",
              "    <tr>\n",
              "      <th>2</th>\n",
              "      <td>109266</td>\n",
              "      <td>29</td>\n",
              "      <td>20-29</td>\n",
              "    </tr>\n",
              "    <tr>\n",
              "      <th>4</th>\n",
              "      <td>109271</td>\n",
              "      <td>49</td>\n",
              "      <td>40-49</td>\n",
              "    </tr>\n",
              "    <tr>\n",
              "      <th>5</th>\n",
              "      <td>109273</td>\n",
              "      <td>36</td>\n",
              "      <td>30-39</td>\n",
              "    </tr>\n",
              "    <tr>\n",
              "      <th>13</th>\n",
              "      <td>109284</td>\n",
              "      <td>44</td>\n",
              "      <td>40-49</td>\n",
              "    </tr>\n",
              "    <tr>\n",
              "      <th>15</th>\n",
              "      <td>109286</td>\n",
              "      <td>33</td>\n",
              "      <td>30-39</td>\n",
              "    </tr>\n",
              "    <tr>\n",
              "      <th>...</th>\n",
              "      <td>...</td>\n",
              "      <td>...</td>\n",
              "      <td>...</td>\n",
              "    </tr>\n",
              "    <tr>\n",
              "      <th>13124</th>\n",
              "      <td>124809</td>\n",
              "      <td>23</td>\n",
              "      <td>20-29</td>\n",
              "    </tr>\n",
              "    <tr>\n",
              "      <th>13125</th>\n",
              "      <td>124810</td>\n",
              "      <td>56</td>\n",
              "      <td>50-60</td>\n",
              "    </tr>\n",
              "    <tr>\n",
              "      <th>13128</th>\n",
              "      <td>124813</td>\n",
              "      <td>43</td>\n",
              "      <td>40-49</td>\n",
              "    </tr>\n",
              "    <tr>\n",
              "      <th>13130</th>\n",
              "      <td>124815</td>\n",
              "      <td>52</td>\n",
              "      <td>50-60</td>\n",
              "    </tr>\n",
              "    <tr>\n",
              "      <th>13132</th>\n",
              "      <td>124818</td>\n",
              "      <td>40</td>\n",
              "      <td>30-39</td>\n",
              "    </tr>\n",
              "  </tbody>\n",
              "</table>\n",
              "<p>5556 rows × 3 columns</p>\n",
              "</div>"
            ],
            "text/plain": [
              "         SEQN  Age AgeGroup1\n",
              "2      109266   29     20-29\n",
              "4      109271   49     40-49\n",
              "5      109273   36     30-39\n",
              "13     109284   44     40-49\n",
              "15     109286   33     30-39\n",
              "...       ...  ...       ...\n",
              "13124  124809   23     20-29\n",
              "13125  124810   56     50-60\n",
              "13128  124813   43     40-49\n",
              "13130  124815   52     50-60\n",
              "13132  124818   40     30-39\n",
              "\n",
              "[5556 rows x 3 columns]"
            ]
          },
          "metadata": {},
          "execution_count": 74
        }
      ]
    },
    {
      "cell_type": "code",
      "metadata": {
        "id": "9iOP2CWlV-m8"
      },
      "source": [
        "df4 = pd.merge(df_clean, df_20_60, how=\"left\")\n",
        "df5 = df4.dropna()"
      ],
      "execution_count": 75,
      "outputs": []
    },
    {
      "cell_type": "code",
      "metadata": {
        "colab": {
          "base_uri": "https://localhost:8080/"
        },
        "id": "ZD7QOPW5f1jB",
        "outputId": "44b98212-37f8-4fe2-8207-b3762bf4f6a9"
      },
      "source": [
        "df5.isnull().sum()"
      ],
      "execution_count": 76,
      "outputs": [
        {
          "output_type": "execute_result",
          "data": {
            "text/plain": [
              "SEQN                              0\n",
              "Gender                            0\n",
              "Age                               0\n",
              "Race                              0\n",
              "CountryofBirth                    0\n",
              "Education                         0\n",
              "FamIncomeRatio                    0\n",
              "Weight                            0\n",
              "Height                            0\n",
              "BMI                               0\n",
              "Diabetes                          0\n",
              "ModerateWorkActivity              0\n",
              "ModerateRecreationalActivities    0\n",
              "Depressed                         0\n",
              "PoorAppetiteOvereating            0\n",
              "SleepHoursWeekdays                0\n",
              "SleepHoursWeekend                 0\n",
              "AgeGroup1                         0\n",
              "dtype: int64"
            ]
          },
          "metadata": {},
          "execution_count": 76
        }
      ]
    },
    {
      "cell_type": "code",
      "metadata": {
        "colab": {
          "base_uri": "https://localhost:8080/",
          "height": 226
        },
        "id": "PQYcfROrTTra",
        "outputId": "12b8c1ff-e22a-4ea0-a1b1-3d1bfb223fb0"
      },
      "source": [
        "df5.head()"
      ],
      "execution_count": 78,
      "outputs": [
        {
          "output_type": "execute_result",
          "data": {
            "text/html": [
              "<div>\n",
              "<style scoped>\n",
              "    .dataframe tbody tr th:only-of-type {\n",
              "        vertical-align: middle;\n",
              "    }\n",
              "\n",
              "    .dataframe tbody tr th {\n",
              "        vertical-align: top;\n",
              "    }\n",
              "\n",
              "    .dataframe thead th {\n",
              "        text-align: right;\n",
              "    }\n",
              "</style>\n",
              "<table border=\"1\" class=\"dataframe\">\n",
              "  <thead>\n",
              "    <tr style=\"text-align: right;\">\n",
              "      <th></th>\n",
              "      <th>SEQN</th>\n",
              "      <th>Gender</th>\n",
              "      <th>Age</th>\n",
              "      <th>Race</th>\n",
              "      <th>CountryofBirth</th>\n",
              "      <th>Education</th>\n",
              "      <th>FamIncomeRatio</th>\n",
              "      <th>Weight</th>\n",
              "      <th>Height</th>\n",
              "      <th>BMI</th>\n",
              "      <th>Diabetes</th>\n",
              "      <th>ModerateWorkActivity</th>\n",
              "      <th>ModerateRecreationalActivities</th>\n",
              "      <th>Depressed</th>\n",
              "      <th>PoorAppetiteOvereating</th>\n",
              "      <th>SleepHoursWeekdays</th>\n",
              "      <th>SleepHoursWeekend</th>\n",
              "      <th>AgeGroup1</th>\n",
              "    </tr>\n",
              "  </thead>\n",
              "  <tbody>\n",
              "    <tr>\n",
              "      <th>2</th>\n",
              "      <td>109266</td>\n",
              "      <td>2</td>\n",
              "      <td>29</td>\n",
              "      <td>6</td>\n",
              "      <td>2</td>\n",
              "      <td>5.0</td>\n",
              "      <td>5.00</td>\n",
              "      <td>97.1</td>\n",
              "      <td>160.2</td>\n",
              "      <td>37.8</td>\n",
              "      <td>2</td>\n",
              "      <td>2.0</td>\n",
              "      <td>1.0</td>\n",
              "      <td>5.397605e-79</td>\n",
              "      <td>5.397605e-79</td>\n",
              "      <td>7.5</td>\n",
              "      <td>8.0</td>\n",
              "      <td>20-29</td>\n",
              "    </tr>\n",
              "    <tr>\n",
              "      <th>5</th>\n",
              "      <td>109273</td>\n",
              "      <td>1</td>\n",
              "      <td>36</td>\n",
              "      <td>3</td>\n",
              "      <td>1</td>\n",
              "      <td>4.0</td>\n",
              "      <td>0.83</td>\n",
              "      <td>74.3</td>\n",
              "      <td>184.2</td>\n",
              "      <td>21.9</td>\n",
              "      <td>2</td>\n",
              "      <td>2.0</td>\n",
              "      <td>1.0</td>\n",
              "      <td>2.000000e+00</td>\n",
              "      <td>2.000000e+00</td>\n",
              "      <td>6.5</td>\n",
              "      <td>8.0</td>\n",
              "      <td>30-39</td>\n",
              "    </tr>\n",
              "    <tr>\n",
              "      <th>21</th>\n",
              "      <td>109292</td>\n",
              "      <td>1</td>\n",
              "      <td>58</td>\n",
              "      <td>2</td>\n",
              "      <td>1</td>\n",
              "      <td>3.0</td>\n",
              "      <td>1.60</td>\n",
              "      <td>86.0</td>\n",
              "      <td>167.8</td>\n",
              "      <td>30.5</td>\n",
              "      <td>1</td>\n",
              "      <td>2.0</td>\n",
              "      <td>2.0</td>\n",
              "      <td>3.000000e+00</td>\n",
              "      <td>5.397605e-79</td>\n",
              "      <td>4.5</td>\n",
              "      <td>4.5</td>\n",
              "      <td>50-60</td>\n",
              "    </tr>\n",
              "    <tr>\n",
              "      <th>22</th>\n",
              "      <td>109293</td>\n",
              "      <td>1</td>\n",
              "      <td>44</td>\n",
              "      <td>3</td>\n",
              "      <td>1</td>\n",
              "      <td>3.0</td>\n",
              "      <td>0.02</td>\n",
              "      <td>99.4</td>\n",
              "      <td>181.6</td>\n",
              "      <td>30.1</td>\n",
              "      <td>2</td>\n",
              "      <td>1.0</td>\n",
              "      <td>2.0</td>\n",
              "      <td>1.000000e+00</td>\n",
              "      <td>1.000000e+00</td>\n",
              "      <td>7.5</td>\n",
              "      <td>6.5</td>\n",
              "      <td>40-49</td>\n",
              "    </tr>\n",
              "    <tr>\n",
              "      <th>23</th>\n",
              "      <td>109295</td>\n",
              "      <td>2</td>\n",
              "      <td>54</td>\n",
              "      <td>1</td>\n",
              "      <td>2</td>\n",
              "      <td>1.0</td>\n",
              "      <td>5.00</td>\n",
              "      <td>61.7</td>\n",
              "      <td>157.4</td>\n",
              "      <td>24.9</td>\n",
              "      <td>2</td>\n",
              "      <td>2.0</td>\n",
              "      <td>2.0</td>\n",
              "      <td>5.397605e-79</td>\n",
              "      <td>5.397605e-79</td>\n",
              "      <td>7.0</td>\n",
              "      <td>7.0</td>\n",
              "      <td>50-60</td>\n",
              "    </tr>\n",
              "  </tbody>\n",
              "</table>\n",
              "</div>"
            ],
            "text/plain": [
              "      SEQN  Gender  Age  ...  SleepHoursWeekdays  SleepHoursWeekend  AgeGroup1\n",
              "2   109266       2   29  ...                 7.5                8.0      20-29\n",
              "5   109273       1   36  ...                 6.5                8.0      30-39\n",
              "21  109292       1   58  ...                 4.5                4.5      50-60\n",
              "22  109293       1   44  ...                 7.5                6.5      40-49\n",
              "23  109295       2   54  ...                 7.0                7.0      50-60\n",
              "\n",
              "[5 rows x 18 columns]"
            ]
          },
          "metadata": {},
          "execution_count": 78
        }
      ]
    },
    {
      "cell_type": "code",
      "metadata": {
        "colab": {
          "base_uri": "https://localhost:8080/",
          "height": 458
        },
        "id": "cScCGk1pXWLg",
        "outputId": "d01222ea-a9f1-485f-b406-a97dd955efbe"
      },
      "source": [
        "# box plot of Age groups from 20-60 years old(ten years for each sub group)\n",
        "sns.catplot(x=\"AgeGroup1\", y='BMI', kind='box', data=df5, height=6)\n",
        "plt.title('Scatterplot of BMI & Age Groups from 20-60')\n",
        "plt.show()\n"
      ],
      "execution_count": 91,
      "outputs": [
        {
          "output_type": "display_data",
          "data": {
            "image/png": "[encoded data removed]",
            "text/plain": [
              "<Figure size 432x432 with 1 Axes>"
            ]
          },
          "metadata": {
            "needs_background": "light"
          }
        }
      ]
    },
    {
      "cell_type": "markdown",
      "metadata": {
        "id": "9YEk3aSHFRrv"
      },
      "source": [
        "## BMI and Gender"
      ]
    },
    {
      "cell_type": "code",
      "metadata": {
        "colab": {
          "base_uri": "https://localhost:8080/",
          "height": 458
        },
        "id": "5CY3JGwfFT_r",
        "outputId": "983e7379-470c-4334-8588-719ba5832f5a"
      },
      "source": [
        "b = sns.catplot(x=\"Gender\", y=\"BMI\", data=df5, height=6, kind='box')\n",
        "plt.xticks([0, 1],['Male','Female'])\n",
        "plt.title('Box-plot of BMI & Gender')\n",
        "plt.show()"
      ],
      "execution_count": 93,
      "outputs": [
        {
          "output_type": "display_data",
          "data": {
            "image/png": "[encoded data removed]",
            "text/plain": [
              "<Figure size 432x432 with 1 Axes>"
            ]
          },
          "metadata": {
            "needs_background": "light"
          }
        }
      ]
    },
    {
      "cell_type": "markdown",
      "metadata": {
        "id": "VoU-sZk7GLGZ"
      },
      "source": [
        "## BMI and Race"
      ]
    },
    {
      "cell_type": "code",
      "metadata": {
        "colab": {
          "base_uri": "https://localhost:8080/",
          "height": 587
        },
        "id": "3gOLFAZGRane",
        "outputId": "2da3346a-2433-4b30-98f7-7b46bb071e06"
      },
      "source": [
        "sns.catplot(x=\"Race\", y='BMI', data=df5, kind='box', height=7)\n",
        "plt.title('Scatterplot of BMI & Race')\n",
        "plt.xticks([0, 1, 2, 3, 4, 5],['Mexican American', 'Other Hispanic',\n",
        "                                  'None-Hispanic White', 'None-Hispanic Black',\n",
        "                                  'None-Hispanic Asian', 'Other Race'], rotation=30)\n",
        "plt.show()"
      ],
      "execution_count": 97,
      "outputs": [
        {
          "output_type": "display_data",
          "data": {
            "image/png": "[encoded data removed]",
            "text/plain": [
              "<Figure size 504x504 with 1 Axes>"
            ]
          },
          "metadata": {
            "needs_background": "light"
          }
        }
      ]
    },
    {
      "cell_type": "markdown",
      "metadata": {
        "id": "AA2H3SH8VY_y"
      },
      "source": [
        "## BMI and Country of Birth"
      ]
    },
    {
      "cell_type": "code",
      "metadata": {
        "colab": {
          "base_uri": "https://localhost:8080/",
          "height": 470
        },
        "id": "vnT_a2p_VYEV",
        "outputId": "aec59faf-3e26-4de5-d817-1f78c5fd3b11"
      },
      "source": [
        "sns.catplot(data=df5, x=\"CountryofBirth\", y=\"BMI\", kind='box', height=6)\n",
        "plt.title(\"BMI & Country of Birth\")\n",
        "plt.xticks([0,1,2,3],['Born in 50 US states \\nor Washinton,DC', 'Others', 'Refused', \"Don't know\"])\n",
        "plt.show()"
      ],
      "execution_count": 99,
      "outputs": [
        {
          "output_type": "display_data",
          "data": {
            "image/png": "[encoded data removed]",
            "text/plain": [
              "<Figure size 432x432 with 1 Axes>"
            ]
          },
          "metadata": {
            "needs_background": "light"
          }
        }
      ]
    },
    {
      "cell_type": "code",
      "metadata": {
        "colab": {
          "base_uri": "https://localhost:8080/",
          "height": 748
        },
        "id": "mGaTL2qZd0Av",
        "outputId": "dfb38351-f434-44e0-b763-d67e7f79afed"
      },
      "source": [
        "## BMI and Education Level\n",
        "sns.catplot(data=df5, x=\"Education\", y=\"BMI\", kind='box', height=9)\n",
        "plt.title(\"BMI & Education Level(Adults 20-60 years old)\")\n",
        "plt.xticks([0,1,2,3,4,5,6],['Less than 9th grade','9-11th grade','High School graduate',\n",
        "                            'Some college or AA degree','College graduate or above',\n",
        "                            'Refused',\"Don't know\"], rotation=30)\n",
        "plt.show()\n",
        "\n",
        "# "
      ],
      "execution_count": 105,
      "outputs": [
        {
          "output_type": "display_data",
          "data": {
            "image/png": "[encoded data removed]",
            "text/plain": [
              "<Figure size 648x648 with 1 Axes>"
            ]
          },
          "metadata": {
            "needs_background": "light"
          }
        }
      ]
    },
    {
      "cell_type": "markdown",
      "metadata": {
        "id": "0qttLqJGhcTs"
      },
      "source": [
        "0: Not at all\n",
        "1: Several days\n",
        "2: More than half the days\n",
        "3: Nearly every day\n",
        "7: Refused\n",
        "9: Don't know\n",
        ".: Missing"
      ]
    },
    {
      "cell_type": "code",
      "metadata": {
        "colab": {
          "base_uri": "https://localhost:8080/",
          "height": 595
        },
        "id": "KO9AQyJOhP5E",
        "outputId": "6e891555-da41-412f-a1ad-505e08fed764"
      },
      "source": [
        "# BMI and Depression\n",
        "sns.catplot(data=df5, x=\"Depressed\", y=\"BMI\", kind='box', height=7)\n",
        "plt.title(\"BMI & Depression(Adults)\")\n",
        "plt.xticks([0,1,2,3,4,5,6],['Not at all','Several days','More than half the days','Nearly everyday','Refused',\"Don't know\"], rotation=30)\n",
        "plt.show()"
      ],
      "execution_count": 106,
      "outputs": [
        {
          "output_type": "display_data",
          "data": {
            "image/png": "[encoded data removed]",
            "text/plain": [
              "<Figure size 504x504 with 1 Axes>"
            ]
          },
          "metadata": {
            "needs_background": "light"
          }
        }
      ]
    },
    {
      "cell_type": "code",
      "metadata": {
        "id": "Oh2tI3GWcxAA"
      },
      "source": [
        ""
      ],
      "execution_count": null,
      "outputs": []
    },
    {
      "cell_type": "markdown",
      "metadata": {
        "id": "2CJmTo0JchRw"
      },
      "source": [
        "### Trying to factorize categorical data and find correlation"
      ]
    },
    {
      "cell_type": "code",
      "metadata": {
        "colab": {
          "base_uri": "https://localhost:8080/"
        },
        "id": "KllcvXXmbZDN",
        "outputId": "4257b244-88f9-4155-bb9b-a289c5b312b6"
      },
      "source": [
        "labels, categories = pd.factorize(df5[\"AgeGroup1\"])\n",
        "df5[\"labels\"] = labels\n",
        "abs(df5[\"BMI\"].corr(df5[\"labels\"]))"
      ],
      "execution_count": 61,
      "outputs": [
        {
          "output_type": "execute_result",
          "data": {
            "text/plain": [
              "0.054509247944536605"
            ]
          },
          "metadata": {},
          "execution_count": 61
        }
      ]
    },
    {
      "cell_type": "code",
      "metadata": {
        "id": "UnLmk_wUcxt4"
      },
      "source": [
        ""
      ],
      "execution_count": null,
      "outputs": []
    },
    {
      "cell_type": "markdown",
      "metadata": {
        "id": "4SF-3sSTQ560"
      },
      "source": [
        "# **Model Construction**"
      ]
    },
    {
      "cell_type": "code",
      "metadata": {
        "id": "LAt0L3FCQ5O0"
      },
      "source": [
        "from sklearn.model_selection import train_test_split\n",
        "from sklearn.preprocessing import StandardScaler as ss\n",
        "from sklearn.svm import SVC\n",
        "from sklearn.metrics import confusion_matrix\n",
        "from sklearn.linear_model import LogisticRegression\n",
        "from sklearn.metrics import plot_confusion_matrix\n",
        "from sklearn.metrics import classification_report\n",
        "from sklearn.ensemble import RandomForestClassifier\n",
        "from sklearn.tree import DecisionTreeClassifier\n",
        "from sklearn.linear_model import LogisticRegression"
      ],
      "execution_count": 48,
      "outputs": []
    },
    {
      "cell_type": "code",
      "metadata": {
        "colab": {
          "base_uri": "https://localhost:8080/",
          "height": 444
        },
        "id": "2UNOR7p0RwHh",
        "outputId": "f02ed34d-dbb8-47b2-a74e-b10f9654880a"
      },
      "source": [
        "df1 = df_with_age_groups.dropna()\n",
        "df1"
      ],
      "execution_count": 49,
      "outputs": [
        {
          "output_type": "execute_result",
          "data": {
            "text/html": [
              "<div>\n",
              "<style scoped>\n",
              "    .dataframe tbody tr th:only-of-type {\n",
              "        vertical-align: middle;\n",
              "    }\n",
              "\n",
              "    .dataframe tbody tr th {\n",
              "        vertical-align: top;\n",
              "    }\n",
              "\n",
              "    .dataframe thead th {\n",
              "        text-align: right;\n",
              "    }\n",
              "</style>\n",
              "<table border=\"1\" class=\"dataframe\">\n",
              "  <thead>\n",
              "    <tr style=\"text-align: right;\">\n",
              "      <th></th>\n",
              "      <th>SEQN</th>\n",
              "      <th>Gender</th>\n",
              "      <th>Age</th>\n",
              "      <th>Race</th>\n",
              "      <th>CountryofBirth</th>\n",
              "      <th>Education</th>\n",
              "      <th>FamIncomeRatio</th>\n",
              "      <th>Weight</th>\n",
              "      <th>Height</th>\n",
              "      <th>BMI</th>\n",
              "      <th>Diabetes</th>\n",
              "      <th>ModerateWorkActivity</th>\n",
              "      <th>ModerateRecreationalActivities</th>\n",
              "      <th>Depressed</th>\n",
              "      <th>PoorAppetiteOvereating</th>\n",
              "      <th>SleepHoursWeekdays</th>\n",
              "      <th>SleepHoursWeekend</th>\n",
              "      <th>AgeGroup</th>\n",
              "    </tr>\n",
              "  </thead>\n",
              "  <tbody>\n",
              "    <tr>\n",
              "      <th>2</th>\n",
              "      <td>109266</td>\n",
              "      <td>2</td>\n",
              "      <td>29</td>\n",
              "      <td>6</td>\n",
              "      <td>2</td>\n",
              "      <td>5.0</td>\n",
              "      <td>5.00</td>\n",
              "      <td>97.1</td>\n",
              "      <td>160.2</td>\n",
              "      <td>37.8</td>\n",
              "      <td>2</td>\n",
              "      <td>2.0</td>\n",
              "      <td>1.0</td>\n",
              "      <td>5.397605e-79</td>\n",
              "      <td>5.397605e-79</td>\n",
              "      <td>7.5</td>\n",
              "      <td>8.0</td>\n",
              "      <td>20-60</td>\n",
              "    </tr>\n",
              "    <tr>\n",
              "      <th>5</th>\n",
              "      <td>109273</td>\n",
              "      <td>1</td>\n",
              "      <td>36</td>\n",
              "      <td>3</td>\n",
              "      <td>1</td>\n",
              "      <td>4.0</td>\n",
              "      <td>0.83</td>\n",
              "      <td>74.3</td>\n",
              "      <td>184.2</td>\n",
              "      <td>21.9</td>\n",
              "      <td>2</td>\n",
              "      <td>2.0</td>\n",
              "      <td>1.0</td>\n",
              "      <td>2.000000e+00</td>\n",
              "      <td>2.000000e+00</td>\n",
              "      <td>6.5</td>\n",
              "      <td>8.0</td>\n",
              "      <td>20-60</td>\n",
              "    </tr>\n",
              "    <tr>\n",
              "      <th>6</th>\n",
              "      <td>109274</td>\n",
              "      <td>1</td>\n",
              "      <td>68</td>\n",
              "      <td>7</td>\n",
              "      <td>1</td>\n",
              "      <td>4.0</td>\n",
              "      <td>1.20</td>\n",
              "      <td>103.7</td>\n",
              "      <td>185.3</td>\n",
              "      <td>30.2</td>\n",
              "      <td>1</td>\n",
              "      <td>1.0</td>\n",
              "      <td>1.0</td>\n",
              "      <td>5.397605e-79</td>\n",
              "      <td>5.397605e-79</td>\n",
              "      <td>9.5</td>\n",
              "      <td>9.5</td>\n",
              "      <td>60+</td>\n",
              "    </tr>\n",
              "    <tr>\n",
              "      <th>12</th>\n",
              "      <td>109282</td>\n",
              "      <td>1</td>\n",
              "      <td>76</td>\n",
              "      <td>3</td>\n",
              "      <td>1</td>\n",
              "      <td>5.0</td>\n",
              "      <td>3.61</td>\n",
              "      <td>83.3</td>\n",
              "      <td>177.1</td>\n",
              "      <td>26.6</td>\n",
              "      <td>2</td>\n",
              "      <td>2.0</td>\n",
              "      <td>2.0</td>\n",
              "      <td>1.000000e+00</td>\n",
              "      <td>5.397605e-79</td>\n",
              "      <td>7.0</td>\n",
              "      <td>8.0</td>\n",
              "      <td>60+</td>\n",
              "    </tr>\n",
              "    <tr>\n",
              "      <th>19</th>\n",
              "      <td>109290</td>\n",
              "      <td>2</td>\n",
              "      <td>68</td>\n",
              "      <td>4</td>\n",
              "      <td>1</td>\n",
              "      <td>5.0</td>\n",
              "      <td>5.00</td>\n",
              "      <td>73.0</td>\n",
              "      <td>161.2</td>\n",
              "      <td>28.1</td>\n",
              "      <td>1</td>\n",
              "      <td>1.0</td>\n",
              "      <td>1.0</td>\n",
              "      <td>1.000000e+00</td>\n",
              "      <td>5.397605e-79</td>\n",
              "      <td>4.0</td>\n",
              "      <td>4.0</td>\n",
              "      <td>60+</td>\n",
              "    </tr>\n",
              "    <tr>\n",
              "      <th>...</th>\n",
              "      <td>...</td>\n",
              "      <td>...</td>\n",
              "      <td>...</td>\n",
              "      <td>...</td>\n",
              "      <td>...</td>\n",
              "      <td>...</td>\n",
              "      <td>...</td>\n",
              "      <td>...</td>\n",
              "      <td>...</td>\n",
              "      <td>...</td>\n",
              "      <td>...</td>\n",
              "      <td>...</td>\n",
              "      <td>...</td>\n",
              "      <td>...</td>\n",
              "      <td>...</td>\n",
              "      <td>...</td>\n",
              "      <td>...</td>\n",
              "      <td>...</td>\n",
              "    </tr>\n",
              "    <tr>\n",
              "      <th>13129</th>\n",
              "      <td>124814</td>\n",
              "      <td>1</td>\n",
              "      <td>64</td>\n",
              "      <td>4</td>\n",
              "      <td>1</td>\n",
              "      <td>3.0</td>\n",
              "      <td>2.00</td>\n",
              "      <td>114.3</td>\n",
              "      <td>174.5</td>\n",
              "      <td>37.5</td>\n",
              "      <td>2</td>\n",
              "      <td>2.0</td>\n",
              "      <td>2.0</td>\n",
              "      <td>5.397605e-79</td>\n",
              "      <td>5.397605e-79</td>\n",
              "      <td>8.0</td>\n",
              "      <td>7.0</td>\n",
              "      <td>60+</td>\n",
              "    </tr>\n",
              "    <tr>\n",
              "      <th>13130</th>\n",
              "      <td>124815</td>\n",
              "      <td>1</td>\n",
              "      <td>52</td>\n",
              "      <td>4</td>\n",
              "      <td>1</td>\n",
              "      <td>4.0</td>\n",
              "      <td>5.00</td>\n",
              "      <td>94.3</td>\n",
              "      <td>178.8</td>\n",
              "      <td>29.5</td>\n",
              "      <td>2</td>\n",
              "      <td>2.0</td>\n",
              "      <td>1.0</td>\n",
              "      <td>5.397605e-79</td>\n",
              "      <td>5.397605e-79</td>\n",
              "      <td>6.0</td>\n",
              "      <td>6.0</td>\n",
              "      <td>20-60</td>\n",
              "    </tr>\n",
              "    <tr>\n",
              "      <th>13131</th>\n",
              "      <td>124817</td>\n",
              "      <td>2</td>\n",
              "      <td>67</td>\n",
              "      <td>1</td>\n",
              "      <td>2</td>\n",
              "      <td>2.0</td>\n",
              "      <td>2.19</td>\n",
              "      <td>82.8</td>\n",
              "      <td>147.8</td>\n",
              "      <td>37.9</td>\n",
              "      <td>1</td>\n",
              "      <td>2.0</td>\n",
              "      <td>2.0</td>\n",
              "      <td>1.000000e+00</td>\n",
              "      <td>5.397605e-79</td>\n",
              "      <td>8.0</td>\n",
              "      <td>8.0</td>\n",
              "      <td>60+</td>\n",
              "    </tr>\n",
              "    <tr>\n",
              "      <th>13132</th>\n",
              "      <td>124818</td>\n",
              "      <td>1</td>\n",
              "      <td>40</td>\n",
              "      <td>4</td>\n",
              "      <td>1</td>\n",
              "      <td>5.0</td>\n",
              "      <td>3.82</td>\n",
              "      <td>108.8</td>\n",
              "      <td>168.7</td>\n",
              "      <td>38.2</td>\n",
              "      <td>2</td>\n",
              "      <td>2.0</td>\n",
              "      <td>2.0</td>\n",
              "      <td>5.397605e-79</td>\n",
              "      <td>5.397605e-79</td>\n",
              "      <td>6.0</td>\n",
              "      <td>7.0</td>\n",
              "      <td>20-60</td>\n",
              "    </tr>\n",
              "    <tr>\n",
              "      <th>13135</th>\n",
              "      <td>124821</td>\n",
              "      <td>1</td>\n",
              "      <td>63</td>\n",
              "      <td>4</td>\n",
              "      <td>1</td>\n",
              "      <td>2.0</td>\n",
              "      <td>3.71</td>\n",
              "      <td>79.5</td>\n",
              "      <td>176.4</td>\n",
              "      <td>25.5</td>\n",
              "      <td>3</td>\n",
              "      <td>2.0</td>\n",
              "      <td>2.0</td>\n",
              "      <td>5.397605e-79</td>\n",
              "      <td>5.397605e-79</td>\n",
              "      <td>8.0</td>\n",
              "      <td>9.0</td>\n",
              "      <td>60+</td>\n",
              "    </tr>\n",
              "  </tbody>\n",
              "</table>\n",
              "<p>6729 rows × 18 columns</p>\n",
              "</div>"
            ],
            "text/plain": [
              "         SEQN  Gender  Age  ...  SleepHoursWeekdays  SleepHoursWeekend  AgeGroup\n",
              "2      109266       2   29  ...                 7.5                8.0     20-60\n",
              "5      109273       1   36  ...                 6.5                8.0     20-60\n",
              "6      109274       1   68  ...                 9.5                9.5       60+\n",
              "12     109282       1   76  ...                 7.0                8.0       60+\n",
              "19     109290       2   68  ...                 4.0                4.0       60+\n",
              "...       ...     ...  ...  ...                 ...                ...       ...\n",
              "13129  124814       1   64  ...                 8.0                7.0       60+\n",
              "13130  124815       1   52  ...                 6.0                6.0     20-60\n",
              "13131  124817       2   67  ...                 8.0                8.0       60+\n",
              "13132  124818       1   40  ...                 6.0                7.0     20-60\n",
              "13135  124821       1   63  ...                 8.0                9.0       60+\n",
              "\n",
              "[6729 rows x 18 columns]"
            ]
          },
          "metadata": {},
          "execution_count": 49
        }
      ]
    },
    {
      "cell_type": "code",
      "metadata": {
        "id": "Uj4WRcUWVKAc"
      },
      "source": [
        "X = df1.iloc[:, :-1].values\n",
        "y = df1.iloc[:, -1].values\n",
        "\n",
        "X_train, X_test, y_train, y_test = train_test_split(X, y, test_size = 0.2, random_state = 0)\n",
        "sc = ss()\n",
        "X_train = sc.fit_transform(X_train)\n",
        "X_test = sc.transform(X_test)"
      ],
      "execution_count": null,
      "outputs": []
    },
    {
      "cell_type": "code",
      "metadata": {
        "id": "HC0uAkOpVMTR"
      },
      "source": [
        "# SVM\n",
        "classifier = SVC(kernel = 'rbf')\n",
        "classifier.fit(X_train, y_train)"
      ],
      "execution_count": null,
      "outputs": []
    },
    {
      "cell_type": "code",
      "metadata": {
        "id": "XS0MF_MGVMaZ"
      },
      "source": [
        ""
      ],
      "execution_count": null,
      "outputs": []
    }
  ]
}
